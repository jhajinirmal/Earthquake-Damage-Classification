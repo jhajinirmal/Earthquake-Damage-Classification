{
 "cells": [
  {
   "cell_type": "code",
   "execution_count": 2,
   "metadata": {
    "execution": {
     "iopub.execute_input": "2022-08-04T03:44:21.549624Z",
     "iopub.status.busy": "2022-08-04T03:44:21.549246Z",
     "iopub.status.idle": "2022-08-04T03:44:21.559832Z",
     "shell.execute_reply": "2022-08-04T03:44:21.556347Z",
     "shell.execute_reply.started": "2022-08-04T03:44:21.549587Z"
    }
   },
   "outputs": [],
   "source": [
    "import pandas as pd\n",
    "from sklearn.tree import DecisionTreeClassifier\n",
    "from sklearn.pipeline import make_pipeline\n",
    "from cuml.preprocessing import OneHotEncoder\n",
    "import cudf\n",
    "import cuml\n",
    "import cupy as cp\n",
    "import numpy as np"
   ]
  },
  {
   "cell_type": "code",
   "execution_count": 4,
   "metadata": {
    "execution": {
     "iopub.execute_input": "2022-08-04T03:44:55.273083Z",
     "iopub.status.busy": "2022-08-04T03:44:55.272704Z",
     "iopub.status.idle": "2022-08-04T03:44:57.882159Z",
     "shell.execute_reply": "2022-08-04T03:44:57.881015Z",
     "shell.execute_reply.started": "2022-08-04T03:44:55.273042Z"
    }
   },
   "outputs": [],
   "source": [
    "import pandas as pd\n",
    "X = pd.read_csv(\"../input/nepal-earthquake-complete/complete_x.csv\")\n",
    "y = pd.read_csv(\"../input/nepal-earthquake-complete/complete_y.csv\")"
   ]
  },
  {
   "cell_type": "code",
   "execution_count": 5,
   "metadata": {
    "execution": {
     "iopub.execute_input": "2022-08-04T03:45:00.886113Z",
     "iopub.status.busy": "2022-08-04T03:45:00.885397Z",
     "iopub.status.idle": "2022-08-04T03:45:00.979298Z",
     "shell.execute_reply": "2022-08-04T03:45:00.978185Z",
     "shell.execute_reply.started": "2022-08-04T03:45:00.886075Z"
    }
   },
   "outputs": [],
   "source": [
    "X = X.astype(\"float32\")\n",
    "y = y.astype(\"float32\")\n",
    "y.set_index(\"building_id\", inplace = True)\n",
    "y = y - 1\n",
    "y.head()"
   ]
  },
  {
   "cell_type": "code",
   "execution_count": 6,
   "metadata": {
    "execution": {
     "iopub.execute_input": "2022-08-04T03:45:05.948398Z",
     "iopub.status.busy": "2022-08-04T03:45:05.948012Z",
     "iopub.status.idle": "2022-08-04T03:45:11.319312Z",
     "shell.execute_reply": "2022-08-04T03:45:11.318297Z",
     "shell.execute_reply.started": "2022-08-04T03:45:05.948363Z"
    }
   },
   "outputs": [],
   "source": [
    "from sklearn.model_selection import train_test_split\n",
    "\n",
    "X_train, X_test, y_train, y_test = train_test_split(X, y, \n",
    "                                                    stratify= y, test_size= 0.2,\n",
    "                                                   random_state= 7)\n",
    "X_train, X_valid, y_train, y_valid = train_test_split(X_train, \n",
    "                                                      y_train, stratify= y_train, \n",
    "                                                      test_size= 0.2,\n",
    "                                                     random_state= 7)"
   ]
  },
  {
   "cell_type": "code",
   "execution_count": null,
   "metadata": {
    "execution": {
     "iopub.execute_input": "2022-08-03T14:20:10.967677Z",
     "iopub.status.busy": "2022-08-03T14:20:10.967185Z",
     "iopub.status.idle": "2022-08-03T14:21:07.977143Z",
     "shell.execute_reply": "2022-08-03T14:21:07.975665Z",
     "shell.execute_reply.started": "2022-08-03T14:20:10.967643Z"
    }
   },
   "outputs": [],
   "source": [
    "#Varying only the tree depth\n",
    "train_accuracy = []\n",
    "validation_accuracy = []\n",
    "tree_depth = []\n",
    "for depth in range(5, 15):\n",
    "    \n",
    "    model = cuml.ensemble.RandomForestClassifier(max_depth = depth, max_samples = 0.8,\n",
    "                                        max_features = 0.6, random_state = 7 )\n",
    "    \n",
    "    model.fit(X_train, y_train)\n",
    "    train_accuracy.append(model.score(X_train, y_train))\n",
    "    validation_accuracy.append(model.score(X_valid, y_valid))\n",
    "    tree_depth.append(depth)\n",
    "\n",
    "score_df = pd.DataFrame({\"train_accuracy\":train_accuracy, \n",
    "                         \"validation_accuracy\": validation_accuracy})\n",
    "\n",
    "score_df[\"Tree Depth\"] = tree_depth\n",
    "score_df.set_index(\"Tree Depth\", inplace = True)\n",
    "\n",
    "import matplotlib.pyplot as plt\n",
    "score_df.plot()\n",
    "plt.xlabel(\"Tree Depth\")\n",
    "plt.ylabel(\"Score\")\n",
    "plt.title(\"Tree Depth vs Score\");"
   ]
  },
  {
   "cell_type": "code",
   "execution_count": null,
   "metadata": {},
   "outputs": [],
   "source": [
    "#Grid Search took a log time to train\n",
    "#So, we had to use Randomized search instead\n",
    "from sklearn.model_selection import GridSearchCV\n",
    "import warnings\n",
    "warnings.filterwarnings(\"ignore\")\n",
    "\n",
    "params = {\"n_estimators\": [10*k for k in range(3, 15)],\n",
    "         \"max_depth\": [k for k in range(5, 12)],\n",
    "         \"max_samples\": [0.1*k for k in range(7,11)],\n",
    "         \"max_features\": [0.1*k for k in range(6,9)]}\n",
    "\n",
    "\n",
    "clf = cuml.ensemble.RandomForestClassifier(random_state = 7)\n",
    "\n",
    "grid = GridSearchCV(clf, params)\n",
    "grid.fit(X,y)"
   ]
  },
  {
   "cell_type": "code",
   "execution_count": null,
   "metadata": {
    "execution": {
     "iopub.execute_input": "2022-08-03T13:43:43.679994Z",
     "iopub.status.busy": "2022-08-03T13:43:43.679569Z",
     "iopub.status.idle": "2022-08-03T14:05:10.873242Z",
     "shell.execute_reply": "2022-08-03T14:05:10.871767Z",
     "shell.execute_reply.started": "2022-08-03T13:43:43.679960Z"
    }
   },
   "outputs": [],
   "source": [
    "from sklearn.model_selection import RandomizedSearchCV\n",
    "clf = cuml.ensemble.RandomForestClassifier(random_state = 7)\n",
    "params = {\"n_estimators\": [10*k for k in range(3, 15)],\n",
    "         \"max_depth\": [k for k in range(5, 12)],\n",
    "         \"max_samples\": [0.1*k for k in range(7,11)],\n",
    "         \"max_features\": [0.1*k for k in range(6,9)]}\n",
    "\n",
    "rf_random = RandomizedSearchCV(estimator = clf, \n",
    "                               param_distributions = params, \n",
    "                               n_iter = 100, cv = 3, verbose=2, \n",
    "                               random_state=42, n_jobs = -1)\n",
    "rf_random.fit(X_train, y_train)"
   ]
  },
  {
   "cell_type": "code",
   "execution_count": null,
   "metadata": {
    "execution": {
     "iopub.execute_input": "2022-08-03T14:06:29.734322Z",
     "iopub.status.busy": "2022-08-03T14:06:29.733887Z",
     "iopub.status.idle": "2022-08-03T14:06:29.745448Z",
     "shell.execute_reply": "2022-08-03T14:06:29.743726Z",
     "shell.execute_reply.started": "2022-08-03T14:06:29.734288Z"
    }
   },
   "outputs": [],
   "source": [
    "rf_random.best_params_"
   ]
  },
  {
   "cell_type": "code",
   "execution_count": null,
   "metadata": {
    "execution": {
     "iopub.execute_input": "2022-08-03T14:10:05.863686Z",
     "iopub.status.busy": "2022-08-03T14:10:05.863211Z",
     "iopub.status.idle": "2022-08-03T14:10:14.488021Z",
     "shell.execute_reply": "2022-08-03T14:10:14.486398Z",
     "shell.execute_reply.started": "2022-08-03T14:10:05.863650Z"
    }
   },
   "outputs": [],
   "source": [
    "model = cuml.ensemble.RandomForestClassifier(n_estimators = 120, \n",
    "                                             max_depth = 11, max_samples = 0.8,\n",
    "                                        max_features = 0.8, random_state = 7 )\n",
    "model.fit(X_train, y_train)\n",
    "train_accuracy = model.score(X_train, y_train)\n",
    "validation_accuracy = model.score(X_valid, y_valid)\n",
    "print(\"The training accuracy is: \", train_accuracy)\n",
    "print(\"The validation accuracy is: \", validation_accuracy)"
   ]
  },
  {
   "cell_type": "markdown",
   "metadata": {},
   "source": [
    "It's not a good score. So, we will try different algorithms."
   ]
  },
  {
   "cell_type": "code",
   "execution_count": null,
   "metadata": {
    "execution": {
     "iopub.execute_input": "2022-08-03T14:31:04.101200Z",
     "iopub.status.busy": "2022-08-03T14:31:04.100728Z",
     "iopub.status.idle": "2022-08-03T14:33:58.450221Z",
     "shell.execute_reply": "2022-08-03T14:33:58.448692Z",
     "shell.execute_reply.started": "2022-08-03T14:31:04.101131Z"
    }
   },
   "outputs": [],
   "source": [
    "#KNN\n",
    "knn = cuml.neighbors.KNeighborsClassifier(random_state = 7)\n",
    "knn_params = { 'n_neighbors' : [5,7,9,11,13,15],\n",
    "               'weights' : ['uniform'],\n",
    "               'metric' : ['minkowski','euclidean','manhattan']}\n",
    "\n",
    "rf_random = RandomizedSearchCV(estimator = knn, \n",
    "                               param_distributions = knn_params, \n",
    "                               n_iter = 30, cv = 3, verbose=2, \n",
    "                               random_state=42, n_jobs = -1)\n",
    "rf_random.fit(X_train, y_train)"
   ]
  },
  {
   "cell_type": "code",
   "execution_count": null,
   "metadata": {
    "execution": {
     "iopub.execute_input": "2022-08-03T14:34:21.310228Z",
     "iopub.status.busy": "2022-08-03T14:34:21.309767Z",
     "iopub.status.idle": "2022-08-03T14:34:21.320083Z",
     "shell.execute_reply": "2022-08-03T14:34:21.318450Z",
     "shell.execute_reply.started": "2022-08-03T14:34:21.310194Z"
    }
   },
   "outputs": [],
   "source": [
    "rf_random.best_params_"
   ]
  },
  {
   "cell_type": "markdown",
   "metadata": {},
   "source": [
    "The best value of \"n_neighbors\" parameter is 15 which is the highest value given. So, we have to explore further in this direction."
   ]
  },
  {
   "cell_type": "code",
   "execution_count": null,
   "metadata": {
    "execution": {
     "iopub.execute_input": "2022-08-03T14:45:21.183700Z",
     "iopub.status.busy": "2022-08-03T14:45:21.183213Z",
     "iopub.status.idle": "2022-08-03T14:47:47.390085Z",
     "shell.execute_reply": "2022-08-03T14:47:47.388319Z",
     "shell.execute_reply.started": "2022-08-03T14:45:21.183665Z"
    }
   },
   "outputs": [],
   "source": [
    "#KNN\n",
    "knn = cuml.neighbors.KNeighborsClassifier(random_state = 7)\n",
    "knn_params = { 'n_neighbors' : [13,15, 17, 19, 23, 25, 27, 29],\n",
    "               'weights' : ['uniform'],\n",
    "               'metric' : ['manhattan']}\n",
    "\n",
    "rf_random = RandomizedSearchCV(estimator = knn, \n",
    "                               param_distributions = knn_params, \n",
    "                               n_iter = 8, cv = 3, verbose=2, \n",
    "                               random_state=42, n_jobs = -1)\n",
    "rf_random.fit(X_train, y_train)\n",
    "rf_random.best_params_"
   ]
  },
  {
   "cell_type": "code",
   "execution_count": null,
   "metadata": {
    "execution": {
     "iopub.execute_input": "2022-08-03T15:26:24.520733Z",
     "iopub.status.busy": "2022-08-03T15:26:24.519951Z",
     "iopub.status.idle": "2022-08-03T15:27:21.457471Z",
     "shell.execute_reply": "2022-08-03T15:27:21.455923Z",
     "shell.execute_reply.started": "2022-08-03T15:26:24.520685Z"
    }
   },
   "outputs": [],
   "source": [
    "knn_params = { 'n_neighbors' : [27],\n",
    "               'weights' : ['uniform'],\n",
    "               'metric' : ['manhattan']}\n",
    "\n",
    "rf_random = RandomizedSearchCV(estimator = knn, \n",
    "                               param_distributions = knn_params, \n",
    "                                cv = 10, verbose=2, \n",
    "                               random_state=42, n_jobs = -1)\n",
    "rf_random.fit(X_train, y_train)\n",
    "train_accuracy = rf_random.score(X_train, y_train)\n",
    "validation_accuracy = rf_random.score(X_valid, y_valid)\n",
    "print(\"The training accuracy is: \", train_accuracy)\n",
    "print(\"The validation accuracy is: \", validation_accuracy)"
   ]
  },
  {
   "cell_type": "code",
   "execution_count": null,
   "metadata": {
    "execution": {
     "iopub.execute_input": "2022-08-03T14:51:45.730502Z",
     "iopub.status.busy": "2022-08-03T14:51:45.729972Z",
     "iopub.status.idle": "2022-08-03T14:52:13.841974Z",
     "shell.execute_reply": "2022-08-03T14:52:13.840500Z",
     "shell.execute_reply.started": "2022-08-03T14:51:45.730461Z"
    }
   },
   "outputs": [],
   "source": [
    "#Retraining the model using best parameters\n",
    "model = knn = cuml.neighbors.KNeighborsClassifier(n_neighbors = 27,\n",
    "                                                  weights= \"uniform\",\n",
    "                                                  metric = \"manhattan\",\n",
    "                                                  random_state = 7)\n",
    "model.fit(X_train, y_train)\n",
    "train_accuracy = model.score(X_train, y_train)\n",
    "validation_accuracy = model.score(X_valid, y_valid)\n",
    "print(\"The training accuracy is: \", train_accuracy)\n",
    "print(\"The validation accuracy is: \", validation_accuracy)"
   ]
  },
  {
   "cell_type": "markdown",
   "metadata": {},
   "source": [
    "So, KNN does a little better.\n",
    "\n",
    "Now we will use Support Vector Classifier."
   ]
  },
  {
   "cell_type": "code",
   "execution_count": null,
   "metadata": {},
   "outputs": [],
   "source": [
    "#Support vector classifier\n",
    "from sklearn.model_selection import RandomizedSearchCV\n",
    "from sklearn.preprocessing import StandardScaler\n",
    "svc = cuml.svm.SVC(random_state = 7)\n",
    "svc_params = { \"multiclass_strategy\": [\"ovo\"],\n",
    "         \"degree\" : [1],\n",
    "         \"kernel\": [\"linear\"],\n",
    "         \"C\": [0.1],\n",
    "         \"gamma\": [0.1]}\n",
    "\n",
    "rf_random = RandomizedSearchCV(estimator = svc, \n",
    "                               param_distributions = svc_params, \n",
    "                               n_iter = 100, cv = 3, verbose=2, \n",
    "                               random_state=42, n_jobs = -1)\n",
    "X_train_scaled = StandardScaler().fit_transform(X_train)\n",
    "rf_random.fit(X_train_scaled, y_train)\n",
    "rf_random.best_params_"
   ]
  },
  {
   "cell_type": "code",
   "execution_count": 17,
   "metadata": {
    "execution": {
     "iopub.execute_input": "2022-08-04T05:08:29.445357Z",
     "iopub.status.busy": "2022-08-04T05:08:29.444721Z",
     "iopub.status.idle": "2022-08-04T05:08:30.686860Z",
     "shell.execute_reply": "2022-08-04T05:08:30.685858Z",
     "shell.execute_reply.started": "2022-08-04T05:08:29.445319Z"
    }
   },
   "outputs": [],
   "source": [
    "import xgboost as xgb\n",
    "\n",
    "dtrain = xgb.DMatrix(data = X_train, label = y_train)\n",
    "dvalid = xgb.DMatrix(data = X_valid, label = y_valid)\n",
    "\n",
    "params = {\n",
    "            'objective': 'multi:softmax', \n",
    "            'tree_method': 'gpu_hist', \n",
    "            'max_depth': 8,\n",
    "            'subsample':0.88,\n",
    "            'colsample_bytree': 0.5,\n",
    "            'gamma':1.5,\n",
    "            'min_child_weight':8,\n",
    "            'lambda':70,\n",
    "            'eta':0.03,\n",
    "            'num_class': 5\n",
    "            \n",
    "    }\n",
    "\n",
    "watchlist = [(dtrain, 'train'), (dvalid, 'eval')]\n",
    "\n",
    "#Training model\n",
    "bst = xgb.train(params, dtrain=dtrain,\n",
    "                num_boost_round=10,evals=watchlist,\n",
    "                early_stopping_rounds=1, maximize=True,\n",
    "                verbose_eval=1)\n",
    "print('best ntree_limit:', bst.best_ntree_limit)\n",
    "print('best score:', bst.best_score)"
   ]
  },
  {
   "cell_type": "code",
   "execution_count": 14,
   "metadata": {
    "execution": {
     "iopub.execute_input": "2022-08-04T05:02:40.076349Z",
     "iopub.status.busy": "2022-08-04T05:02:40.075987Z",
     "iopub.status.idle": "2022-08-04T05:02:40.097985Z",
     "shell.execute_reply": "2022-08-04T05:02:40.096316Z",
     "shell.execute_reply.started": "2022-08-04T05:02:40.076319Z"
    }
   },
   "outputs": [],
   "source": [
    "bst.score(X_valid, y_valid)"
   ]
  },
  {
   "cell_type": "code",
   "execution_count": 42,
   "metadata": {
    "execution": {
     "iopub.execute_input": "2022-08-04T07:58:15.614567Z",
     "iopub.status.busy": "2022-08-04T07:58:15.614170Z",
     "iopub.status.idle": "2022-08-04T07:59:32.139357Z",
     "shell.execute_reply": "2022-08-04T07:59:32.138366Z",
     "shell.execute_reply.started": "2022-08-04T07:58:15.614533Z"
    }
   },
   "outputs": [],
   "source": [
    "from sklearn.model_selection import RandomizedSearchCV\n",
    "import xgboost as xgb\n",
    "watchlist = [(dtrain, 'train'), (dvalid, 'eval')]\n",
    "xgb_params = {\n",
    "            'objective': ['multi:softmax'], \n",
    "            'tree_method': ['gpu_hist'], \n",
    "            'max_depth': [10],\n",
    "            'subsample': [0.9],\n",
    "            'colsample_bytree': [0.6],\n",
    "            'gamma':[0.1],\n",
    "            'min_child_weight':[2],\n",
    "            'lambda':[30],\n",
    "            'eta':[0.3],\n",
    "            'num_boost_round' : [200],\n",
    "            'num_class': [5]\n",
    "    }\n",
    "model_xgb = xgb.XGBClassifier(random_state = 7 )\n",
    "\n",
    "rf_random = RandomizedSearchCV(estimator = model_xgb, \n",
    "                               param_distributions = xgb_params, \n",
    "                               n_iter = 5, cv = 3, verbose=50, \n",
    "                               random_state=42, n_jobs = -1)\n",
    "rf_random.fit(X_train, y_train)\n"
   ]
  },
  {
   "cell_type": "code",
   "execution_count": 40,
   "metadata": {
    "execution": {
     "iopub.execute_input": "2022-08-04T07:57:11.775519Z",
     "iopub.status.busy": "2022-08-04T07:57:11.775109Z",
     "iopub.status.idle": "2022-08-04T07:57:11.782407Z",
     "shell.execute_reply": "2022-08-04T07:57:11.781441Z",
     "shell.execute_reply.started": "2022-08-04T07:57:11.775463Z"
    }
   },
   "outputs": [],
   "source": [
    "rf_random.best_params_"
   ]
  },
  {
   "cell_type": "code",
   "execution_count": 43,
   "metadata": {
    "execution": {
     "iopub.execute_input": "2022-08-04T08:02:15.857460Z",
     "iopub.status.busy": "2022-08-04T08:02:15.856513Z",
     "iopub.status.idle": "2022-08-04T08:02:28.178813Z",
     "shell.execute_reply": "2022-08-04T08:02:28.178049Z",
     "shell.execute_reply.started": "2022-08-04T08:02:15.857414Z"
    }
   },
   "outputs": [],
   "source": [
    "train_accuracy = rf_random.score(X_train, y_train)\n",
    "validation_accuracy = rf_random.score(X_valid, y_valid)\n",
    "print(\"The training accuracy is: \", train_accuracy)\n",
    "print(\"The validation accuracy is: \", validation_accuracy)"
   ]
  },
  {
   "cell_type": "code",
   "execution_count": null,
   "metadata": {},
   "outputs": [],
   "source": []
  }
 ],
 "metadata": {
  "kernelspec": {
   "display_name": "Python 3 (ipykernel)",
   "language": "python",
   "name": "python3"
  },
  "language_info": {
   "codemirror_mode": {
    "name": "ipython",
    "version": 3
   },
   "file_extension": ".py",
   "mimetype": "text/x-python",
   "name": "python",
   "nbconvert_exporter": "python",
   "pygments_lexer": "ipython3",
   "version": "3.8.10"
  }
 },
 "nbformat": 4,
 "nbformat_minor": 4
}
