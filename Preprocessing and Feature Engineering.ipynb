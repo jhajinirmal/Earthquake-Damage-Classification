{
 "cells": [
  {
   "cell_type": "markdown",
   "id": "5d949f57",
   "metadata": {},
   "source": [
    "The goal of this project is to predict Earthquake damage using building characteristics."
   ]
  },
  {
   "cell_type": "code",
   "execution_count": 1,
   "id": "7bc2e79a",
   "metadata": {},
   "outputs": [],
   "source": [
    "import pandas as pd\n",
    "import matplotlib.pyplot as plt\n",
    "import seaborn as sns\n",
    "from sklearn.model_selection import train_test_split"
   ]
  },
  {
   "cell_type": "code",
   "execution_count": 2,
   "id": "b3ca3801",
   "metadata": {},
   "outputs": [
    {
     "name": "stdout",
     "output_type": "stream",
     "text": [
      "The shape of the dataframe is:  (762106, 31)\n"
     ]
    },
    {
     "data": {
      "text/html": [
       "<div>\n",
       "<style scoped>\n",
       "    .dataframe tbody tr th:only-of-type {\n",
       "        vertical-align: middle;\n",
       "    }\n",
       "\n",
       "    .dataframe tbody tr th {\n",
       "        vertical-align: top;\n",
       "    }\n",
       "\n",
       "    .dataframe thead th {\n",
       "        text-align: right;\n",
       "    }\n",
       "</style>\n",
       "<table border=\"1\" class=\"dataframe\">\n",
       "  <thead>\n",
       "    <tr style=\"text-align: right;\">\n",
       "      <th></th>\n",
       "      <th>building_id</th>\n",
       "      <th>district_id</th>\n",
       "      <th>vdcmun_id</th>\n",
       "      <th>ward_id</th>\n",
       "      <th>count_floors_pre_eq</th>\n",
       "      <th>count_floors_post_eq</th>\n",
       "      <th>age_building</th>\n",
       "      <th>plinth_area_sq_ft</th>\n",
       "      <th>height_ft_pre_eq</th>\n",
       "      <th>height_ft_post_eq</th>\n",
       "      <th>...</th>\n",
       "      <th>has_superstructure_mud_mortar_brick</th>\n",
       "      <th>has_superstructure_cement_mortar_brick</th>\n",
       "      <th>has_superstructure_timber</th>\n",
       "      <th>has_superstructure_bamboo</th>\n",
       "      <th>has_superstructure_rc_non_engineered</th>\n",
       "      <th>has_superstructure_rc_engineered</th>\n",
       "      <th>has_superstructure_other</th>\n",
       "      <th>condition_post_eq</th>\n",
       "      <th>damage_grade</th>\n",
       "      <th>technical_solution_proposed</th>\n",
       "    </tr>\n",
       "  </thead>\n",
       "  <tbody>\n",
       "    <tr>\n",
       "      <th>0</th>\n",
       "      <td>120101000011</td>\n",
       "      <td>12</td>\n",
       "      <td>1207</td>\n",
       "      <td>120703</td>\n",
       "      <td>1</td>\n",
       "      <td>1</td>\n",
       "      <td>9</td>\n",
       "      <td>288</td>\n",
       "      <td>9</td>\n",
       "      <td>9</td>\n",
       "      <td>...</td>\n",
       "      <td>0</td>\n",
       "      <td>0</td>\n",
       "      <td>0</td>\n",
       "      <td>1</td>\n",
       "      <td>0</td>\n",
       "      <td>0</td>\n",
       "      <td>0</td>\n",
       "      <td>Damaged-Used in risk</td>\n",
       "      <td>Grade 3</td>\n",
       "      <td>Major repair</td>\n",
       "    </tr>\n",
       "    <tr>\n",
       "      <th>1</th>\n",
       "      <td>120101000021</td>\n",
       "      <td>12</td>\n",
       "      <td>1207</td>\n",
       "      <td>120703</td>\n",
       "      <td>1</td>\n",
       "      <td>1</td>\n",
       "      <td>15</td>\n",
       "      <td>364</td>\n",
       "      <td>9</td>\n",
       "      <td>9</td>\n",
       "      <td>...</td>\n",
       "      <td>0</td>\n",
       "      <td>0</td>\n",
       "      <td>0</td>\n",
       "      <td>1</td>\n",
       "      <td>0</td>\n",
       "      <td>0</td>\n",
       "      <td>0</td>\n",
       "      <td>Damaged-Repaired and used</td>\n",
       "      <td>Grade 5</td>\n",
       "      <td>Reconstruction</td>\n",
       "    </tr>\n",
       "    <tr>\n",
       "      <th>2</th>\n",
       "      <td>120101000031</td>\n",
       "      <td>12</td>\n",
       "      <td>1207</td>\n",
       "      <td>120703</td>\n",
       "      <td>1</td>\n",
       "      <td>1</td>\n",
       "      <td>20</td>\n",
       "      <td>384</td>\n",
       "      <td>9</td>\n",
       "      <td>9</td>\n",
       "      <td>...</td>\n",
       "      <td>0</td>\n",
       "      <td>0</td>\n",
       "      <td>0</td>\n",
       "      <td>0</td>\n",
       "      <td>0</td>\n",
       "      <td>0</td>\n",
       "      <td>0</td>\n",
       "      <td>Damaged-Repaired and used</td>\n",
       "      <td>Grade 2</td>\n",
       "      <td>Minor repair</td>\n",
       "    </tr>\n",
       "    <tr>\n",
       "      <th>3</th>\n",
       "      <td>120101000041</td>\n",
       "      <td>12</td>\n",
       "      <td>1207</td>\n",
       "      <td>120703</td>\n",
       "      <td>1</td>\n",
       "      <td>1</td>\n",
       "      <td>20</td>\n",
       "      <td>312</td>\n",
       "      <td>9</td>\n",
       "      <td>9</td>\n",
       "      <td>...</td>\n",
       "      <td>0</td>\n",
       "      <td>0</td>\n",
       "      <td>0</td>\n",
       "      <td>0</td>\n",
       "      <td>0</td>\n",
       "      <td>0</td>\n",
       "      <td>0</td>\n",
       "      <td>Damaged-Repaired and used</td>\n",
       "      <td>Grade 2</td>\n",
       "      <td>Minor repair</td>\n",
       "    </tr>\n",
       "    <tr>\n",
       "      <th>4</th>\n",
       "      <td>120101000051</td>\n",
       "      <td>12</td>\n",
       "      <td>1207</td>\n",
       "      <td>120703</td>\n",
       "      <td>1</td>\n",
       "      <td>1</td>\n",
       "      <td>30</td>\n",
       "      <td>308</td>\n",
       "      <td>9</td>\n",
       "      <td>9</td>\n",
       "      <td>...</td>\n",
       "      <td>0</td>\n",
       "      <td>0</td>\n",
       "      <td>0</td>\n",
       "      <td>0</td>\n",
       "      <td>0</td>\n",
       "      <td>0</td>\n",
       "      <td>0</td>\n",
       "      <td>Damaged-Repaired and used</td>\n",
       "      <td>Grade 1</td>\n",
       "      <td>Minor repair</td>\n",
       "    </tr>\n",
       "  </tbody>\n",
       "</table>\n",
       "<p>5 rows × 31 columns</p>\n",
       "</div>"
      ],
      "text/plain": [
       "    building_id  district_id  vdcmun_id  ward_id  count_floors_pre_eq  \\\n",
       "0  120101000011           12       1207   120703                    1   \n",
       "1  120101000021           12       1207   120703                    1   \n",
       "2  120101000031           12       1207   120703                    1   \n",
       "3  120101000041           12       1207   120703                    1   \n",
       "4  120101000051           12       1207   120703                    1   \n",
       "\n",
       "   count_floors_post_eq  age_building  plinth_area_sq_ft  height_ft_pre_eq  \\\n",
       "0                     1             9                288                 9   \n",
       "1                     1            15                364                 9   \n",
       "2                     1            20                384                 9   \n",
       "3                     1            20                312                 9   \n",
       "4                     1            30                308                 9   \n",
       "\n",
       "   height_ft_post_eq  ... has_superstructure_mud_mortar_brick  \\\n",
       "0                  9  ...                                   0   \n",
       "1                  9  ...                                   0   \n",
       "2                  9  ...                                   0   \n",
       "3                  9  ...                                   0   \n",
       "4                  9  ...                                   0   \n",
       "\n",
       "  has_superstructure_cement_mortar_brick has_superstructure_timber  \\\n",
       "0                                      0                         0   \n",
       "1                                      0                         0   \n",
       "2                                      0                         0   \n",
       "3                                      0                         0   \n",
       "4                                      0                         0   \n",
       "\n",
       "  has_superstructure_bamboo has_superstructure_rc_non_engineered  \\\n",
       "0                         1                                    0   \n",
       "1                         1                                    0   \n",
       "2                         0                                    0   \n",
       "3                         0                                    0   \n",
       "4                         0                                    0   \n",
       "\n",
       "  has_superstructure_rc_engineered has_superstructure_other  \\\n",
       "0                                0                        0   \n",
       "1                                0                        0   \n",
       "2                                0                        0   \n",
       "3                                0                        0   \n",
       "4                                0                        0   \n",
       "\n",
       "           condition_post_eq  damage_grade  technical_solution_proposed  \n",
       "0       Damaged-Used in risk       Grade 3                 Major repair  \n",
       "1  Damaged-Repaired and used       Grade 5               Reconstruction  \n",
       "2  Damaged-Repaired and used       Grade 2                 Minor repair  \n",
       "3  Damaged-Repaired and used       Grade 2                 Minor repair  \n",
       "4  Damaged-Repaired and used       Grade 1                 Minor repair  \n",
       "\n",
       "[5 rows x 31 columns]"
      ]
     },
     "execution_count": 2,
     "metadata": {},
     "output_type": "execute_result"
    }
   ],
   "source": [
    "#Importing Data\n",
    "df = pd.read_csv(\"csv_building_structure.csv\")\n",
    "print(\"The shape of the dataframe is: \", df.shape)\n",
    "df.head()"
   ]
  },
  {
   "cell_type": "code",
   "execution_count": 3,
   "id": "61f630a0",
   "metadata": {},
   "outputs": [
    {
     "data": {
      "text/plain": [
       "Index(['building_id', 'district_id', 'vdcmun_id', 'ward_id',\n",
       "       'count_floors_pre_eq', 'count_floors_post_eq', 'age_building',\n",
       "       'plinth_area_sq_ft', 'height_ft_pre_eq', 'height_ft_post_eq',\n",
       "       'land_surface_condition', 'foundation_type', 'roof_type',\n",
       "       'ground_floor_type', 'other_floor_type', 'position',\n",
       "       'plan_configuration', 'has_superstructure_adobe_mud',\n",
       "       'has_superstructure_mud_mortar_stone', 'has_superstructure_stone_flag',\n",
       "       'has_superstructure_cement_mortar_stone',\n",
       "       'has_superstructure_mud_mortar_brick',\n",
       "       'has_superstructure_cement_mortar_brick', 'has_superstructure_timber',\n",
       "       'has_superstructure_bamboo', 'has_superstructure_rc_non_engineered',\n",
       "       'has_superstructure_rc_engineered', 'has_superstructure_other',\n",
       "       'condition_post_eq', 'damage_grade', 'technical_solution_proposed'],\n",
       "      dtype='object')"
      ]
     },
     "execution_count": 3,
     "metadata": {},
     "output_type": "execute_result"
    }
   ],
   "source": [
    "df.columns"
   ]
  },
  {
   "cell_type": "code",
   "execution_count": 4,
   "id": "468d92d0",
   "metadata": {},
   "outputs": [
    {
     "name": "stdout",
     "output_type": "stream",
     "text": [
      "<class 'pandas.core.frame.DataFrame'>\n",
      "RangeIndex: 762106 entries, 0 to 762105\n",
      "Data columns (total 31 columns):\n",
      " #   Column                                  Non-Null Count   Dtype \n",
      "---  ------                                  --------------   ----- \n",
      " 0   building_id                             762106 non-null  int64 \n",
      " 1   district_id                             762106 non-null  int64 \n",
      " 2   vdcmun_id                               762106 non-null  int64 \n",
      " 3   ward_id                                 762106 non-null  int64 \n",
      " 4   count_floors_pre_eq                     762106 non-null  int64 \n",
      " 5   count_floors_post_eq                    762106 non-null  int64 \n",
      " 6   age_building                            762106 non-null  int64 \n",
      " 7   plinth_area_sq_ft                       762106 non-null  int64 \n",
      " 8   height_ft_pre_eq                        762106 non-null  int64 \n",
      " 9   height_ft_post_eq                       762106 non-null  int64 \n",
      " 10  land_surface_condition                  762106 non-null  object\n",
      " 11  foundation_type                         762106 non-null  object\n",
      " 12  roof_type                               762106 non-null  object\n",
      " 13  ground_floor_type                       762106 non-null  object\n",
      " 14  other_floor_type                        762106 non-null  object\n",
      " 15  position                                762105 non-null  object\n",
      " 16  plan_configuration                      762105 non-null  object\n",
      " 17  has_superstructure_adobe_mud            762106 non-null  int64 \n",
      " 18  has_superstructure_mud_mortar_stone     762106 non-null  int64 \n",
      " 19  has_superstructure_stone_flag           762106 non-null  int64 \n",
      " 20  has_superstructure_cement_mortar_stone  762106 non-null  int64 \n",
      " 21  has_superstructure_mud_mortar_brick     762106 non-null  int64 \n",
      " 22  has_superstructure_cement_mortar_brick  762106 non-null  int64 \n",
      " 23  has_superstructure_timber               762106 non-null  int64 \n",
      " 24  has_superstructure_bamboo               762106 non-null  int64 \n",
      " 25  has_superstructure_rc_non_engineered    762106 non-null  int64 \n",
      " 26  has_superstructure_rc_engineered        762106 non-null  int64 \n",
      " 27  has_superstructure_other                762106 non-null  int64 \n",
      " 28  condition_post_eq                       762106 non-null  object\n",
      " 29  damage_grade                            762094 non-null  object\n",
      " 30  technical_solution_proposed             762094 non-null  object\n",
      "dtypes: int64(21), object(10)\n",
      "memory usage: 180.2+ MB\n"
     ]
    }
   ],
   "source": [
    "df.info()"
   ]
  },
  {
   "cell_type": "code",
   "execution_count": 5,
   "id": "916ef513",
   "metadata": {
    "scrolled": true
   },
   "outputs": [
    {
     "data": {
      "text/plain": [
       "building_id                                0\n",
       "district_id                                0\n",
       "vdcmun_id                                  0\n",
       "ward_id                                    0\n",
       "count_floors_pre_eq                        0\n",
       "count_floors_post_eq                       0\n",
       "age_building                               0\n",
       "plinth_area_sq_ft                          0\n",
       "height_ft_pre_eq                           0\n",
       "height_ft_post_eq                          0\n",
       "land_surface_condition                     0\n",
       "foundation_type                            0\n",
       "roof_type                                  0\n",
       "ground_floor_type                          0\n",
       "other_floor_type                           0\n",
       "position                                   1\n",
       "plan_configuration                         1\n",
       "has_superstructure_adobe_mud               0\n",
       "has_superstructure_mud_mortar_stone        0\n",
       "has_superstructure_stone_flag              0\n",
       "has_superstructure_cement_mortar_stone     0\n",
       "has_superstructure_mud_mortar_brick        0\n",
       "has_superstructure_cement_mortar_brick     0\n",
       "has_superstructure_timber                  0\n",
       "has_superstructure_bamboo                  0\n",
       "has_superstructure_rc_non_engineered       0\n",
       "has_superstructure_rc_engineered           0\n",
       "has_superstructure_other                   0\n",
       "condition_post_eq                          0\n",
       "damage_grade                              12\n",
       "technical_solution_proposed               12\n",
       "dtype: int64"
      ]
     },
     "execution_count": 5,
     "metadata": {},
     "output_type": "execute_result"
    }
   ],
   "source": [
    "df.isnull().sum()"
   ]
  },
  {
   "cell_type": "markdown",
   "id": "f9557304",
   "metadata": {},
   "source": [
    "The data has only a few null values. Most of the null values are in the **damage_grade** column which is the target variable. So, we can just drop the rows having null values."
   ]
  },
  {
   "cell_type": "code",
   "execution_count": 6,
   "id": "76c6a2ec",
   "metadata": {},
   "outputs": [],
   "source": [
    "df.dropna(inplace = True)"
   ]
  },
  {
   "cell_type": "code",
   "execution_count": 7,
   "id": "2b0c60b3",
   "metadata": {},
   "outputs": [
    {
     "data": {
      "text/plain": [
       "building_id                               0\n",
       "district_id                               0\n",
       "vdcmun_id                                 0\n",
       "ward_id                                   0\n",
       "count_floors_pre_eq                       0\n",
       "count_floors_post_eq                      0\n",
       "age_building                              0\n",
       "plinth_area_sq_ft                         0\n",
       "height_ft_pre_eq                          0\n",
       "height_ft_post_eq                         0\n",
       "land_surface_condition                    0\n",
       "foundation_type                           0\n",
       "roof_type                                 0\n",
       "ground_floor_type                         0\n",
       "other_floor_type                          0\n",
       "position                                  0\n",
       "plan_configuration                        0\n",
       "has_superstructure_adobe_mud              0\n",
       "has_superstructure_mud_mortar_stone       0\n",
       "has_superstructure_stone_flag             0\n",
       "has_superstructure_cement_mortar_stone    0\n",
       "has_superstructure_mud_mortar_brick       0\n",
       "has_superstructure_cement_mortar_brick    0\n",
       "has_superstructure_timber                 0\n",
       "has_superstructure_bamboo                 0\n",
       "has_superstructure_rc_non_engineered      0\n",
       "has_superstructure_rc_engineered          0\n",
       "has_superstructure_other                  0\n",
       "condition_post_eq                         0\n",
       "damage_grade                              0\n",
       "technical_solution_proposed               0\n",
       "dtype: int64"
      ]
     },
     "execution_count": 7,
     "metadata": {},
     "output_type": "execute_result"
    }
   ],
   "source": [
    "df.isnull().sum()"
   ]
  },
  {
   "cell_type": "markdown",
   "id": "80df5692",
   "metadata": {},
   "source": [
    "The columns ** count_floors_post_eq, height_ft_post_eq, condition_post_eq, technical_solution_proposed ** are variables measured after the earthquake. So, these columns will cause data leakage. In order to prevent that we will drop these columns."
   ]
  },
  {
   "cell_type": "code",
   "execution_count": 8,
   "id": "19b7447c",
   "metadata": {},
   "outputs": [],
   "source": [
    "df.drop(columns = [\"count_floors_post_eq\", \"height_ft_post_eq\", \n",
    "                   \"condition_post_eq\", \"technical_solution_proposed\"], inplace = True)"
   ]
  },
  {
   "cell_type": "markdown",
   "id": "188b3f07",
   "metadata": {},
   "source": [
    "Let's have a look at values in the target column."
   ]
  },
  {
   "cell_type": "code",
   "execution_count": 9,
   "id": "3b795b36",
   "metadata": {},
   "outputs": [
    {
     "name": "stdout",
     "output_type": "stream",
     "text": [
      "The number of unique values are:  5\n"
     ]
    }
   ],
   "source": [
    "print(\"The number of unique values are: \", df[\"damage_grade\"].nunique())"
   ]
  },
  {
   "cell_type": "code",
   "execution_count": 10,
   "id": "337ae7f8",
   "metadata": {},
   "outputs": [
    {
     "name": "stdout",
     "output_type": "stream",
     "text": [
      "The different damage_grade classes are:  ['Grade 3' 'Grade 5' 'Grade 2' 'Grade 1' 'Grade 4']\n"
     ]
    }
   ],
   "source": [
    "print(\"The different damage_grade classes are: \", df[\"damage_grade\"].unique())"
   ]
  },
  {
   "cell_type": "markdown",
   "id": "e13982bd",
   "metadata": {},
   "source": [
    "Currently, the dtype in this column is Object. We have to change it to a numerical variable. We can just retain the last character of the labels."
   ]
  },
  {
   "cell_type": "code",
   "execution_count": 11,
   "id": "257d5774",
   "metadata": {},
   "outputs": [],
   "source": [
    "df[\"damage_grade\"] = df[\"damage_grade\"].str[-1].astype(\"int\")"
   ]
  },
  {
   "cell_type": "code",
   "execution_count": 12,
   "id": "c9a994d2",
   "metadata": {},
   "outputs": [
    {
     "name": "stdout",
     "output_type": "stream",
     "text": [
      "The different damage_grade classes are:  [3 5 2 1 4]\n"
     ]
    }
   ],
   "source": [
    "print(\"The different damage_grade classes are: \", df[\"damage_grade\"].unique())"
   ]
  },
  {
   "cell_type": "markdown",
   "id": "5d920c25",
   "metadata": {},
   "source": [
    "We are good to go."
   ]
  },
  {
   "cell_type": "markdown",
   "id": "49ef3e51",
   "metadata": {},
   "source": [
    "In this project, we have no use of columns \"district_id\", \"vdcmun_id\" which refers to different municipalities and \"ward_id\". So, we will drop these columns as well."
   ]
  },
  {
   "cell_type": "code",
   "execution_count": 13,
   "id": "1b2c35ca",
   "metadata": {},
   "outputs": [],
   "source": [
    "df.drop(columns = [\"district_id\", \"vdcmun_id\", \"ward_id\"], inplace = True)"
   ]
  },
  {
   "cell_type": "markdown",
   "id": "66710da6",
   "metadata": {},
   "source": [
    "Each row is identified with a distinct \"building_id\". So, let's make this column the index of the dataframe."
   ]
  },
  {
   "cell_type": "code",
   "execution_count": 14,
   "id": "a47fd300",
   "metadata": {},
   "outputs": [],
   "source": [
    "df.set_index(\"building_id\", inplace = True)"
   ]
  },
  {
   "cell_type": "code",
   "execution_count": 15,
   "id": "f1dba72e",
   "metadata": {},
   "outputs": [
    {
     "data": {
      "text/html": [
       "<div>\n",
       "<style scoped>\n",
       "    .dataframe tbody tr th:only-of-type {\n",
       "        vertical-align: middle;\n",
       "    }\n",
       "\n",
       "    .dataframe tbody tr th {\n",
       "        vertical-align: top;\n",
       "    }\n",
       "\n",
       "    .dataframe thead th {\n",
       "        text-align: right;\n",
       "    }\n",
       "</style>\n",
       "<table border=\"1\" class=\"dataframe\">\n",
       "  <thead>\n",
       "    <tr style=\"text-align: right;\">\n",
       "      <th></th>\n",
       "      <th>count_floors_pre_eq</th>\n",
       "      <th>age_building</th>\n",
       "      <th>plinth_area_sq_ft</th>\n",
       "      <th>height_ft_pre_eq</th>\n",
       "      <th>land_surface_condition</th>\n",
       "      <th>foundation_type</th>\n",
       "      <th>roof_type</th>\n",
       "      <th>ground_floor_type</th>\n",
       "      <th>other_floor_type</th>\n",
       "      <th>position</th>\n",
       "      <th>...</th>\n",
       "      <th>has_superstructure_stone_flag</th>\n",
       "      <th>has_superstructure_cement_mortar_stone</th>\n",
       "      <th>has_superstructure_mud_mortar_brick</th>\n",
       "      <th>has_superstructure_cement_mortar_brick</th>\n",
       "      <th>has_superstructure_timber</th>\n",
       "      <th>has_superstructure_bamboo</th>\n",
       "      <th>has_superstructure_rc_non_engineered</th>\n",
       "      <th>has_superstructure_rc_engineered</th>\n",
       "      <th>has_superstructure_other</th>\n",
       "      <th>damage_grade</th>\n",
       "    </tr>\n",
       "    <tr>\n",
       "      <th>building_id</th>\n",
       "      <th></th>\n",
       "      <th></th>\n",
       "      <th></th>\n",
       "      <th></th>\n",
       "      <th></th>\n",
       "      <th></th>\n",
       "      <th></th>\n",
       "      <th></th>\n",
       "      <th></th>\n",
       "      <th></th>\n",
       "      <th></th>\n",
       "      <th></th>\n",
       "      <th></th>\n",
       "      <th></th>\n",
       "      <th></th>\n",
       "      <th></th>\n",
       "      <th></th>\n",
       "      <th></th>\n",
       "      <th></th>\n",
       "      <th></th>\n",
       "      <th></th>\n",
       "    </tr>\n",
       "  </thead>\n",
       "  <tbody>\n",
       "    <tr>\n",
       "      <th>120101000011</th>\n",
       "      <td>1</td>\n",
       "      <td>9</td>\n",
       "      <td>288</td>\n",
       "      <td>9</td>\n",
       "      <td>Flat</td>\n",
       "      <td>Other</td>\n",
       "      <td>Bamboo/Timber-Light roof</td>\n",
       "      <td>Mud</td>\n",
       "      <td>Not applicable</td>\n",
       "      <td>Not attached</td>\n",
       "      <td>...</td>\n",
       "      <td>0</td>\n",
       "      <td>0</td>\n",
       "      <td>0</td>\n",
       "      <td>0</td>\n",
       "      <td>0</td>\n",
       "      <td>1</td>\n",
       "      <td>0</td>\n",
       "      <td>0</td>\n",
       "      <td>0</td>\n",
       "      <td>3</td>\n",
       "    </tr>\n",
       "    <tr>\n",
       "      <th>120101000021</th>\n",
       "      <td>1</td>\n",
       "      <td>15</td>\n",
       "      <td>364</td>\n",
       "      <td>9</td>\n",
       "      <td>Flat</td>\n",
       "      <td>Other</td>\n",
       "      <td>Bamboo/Timber-Light roof</td>\n",
       "      <td>Mud</td>\n",
       "      <td>Not applicable</td>\n",
       "      <td>Not attached</td>\n",
       "      <td>...</td>\n",
       "      <td>0</td>\n",
       "      <td>0</td>\n",
       "      <td>0</td>\n",
       "      <td>0</td>\n",
       "      <td>0</td>\n",
       "      <td>1</td>\n",
       "      <td>0</td>\n",
       "      <td>0</td>\n",
       "      <td>0</td>\n",
       "      <td>5</td>\n",
       "    </tr>\n",
       "    <tr>\n",
       "      <th>120101000031</th>\n",
       "      <td>1</td>\n",
       "      <td>20</td>\n",
       "      <td>384</td>\n",
       "      <td>9</td>\n",
       "      <td>Flat</td>\n",
       "      <td>Other</td>\n",
       "      <td>Bamboo/Timber-Light roof</td>\n",
       "      <td>Mud</td>\n",
       "      <td>Not applicable</td>\n",
       "      <td>Not attached</td>\n",
       "      <td>...</td>\n",
       "      <td>0</td>\n",
       "      <td>0</td>\n",
       "      <td>0</td>\n",
       "      <td>0</td>\n",
       "      <td>0</td>\n",
       "      <td>0</td>\n",
       "      <td>0</td>\n",
       "      <td>0</td>\n",
       "      <td>0</td>\n",
       "      <td>2</td>\n",
       "    </tr>\n",
       "    <tr>\n",
       "      <th>120101000041</th>\n",
       "      <td>1</td>\n",
       "      <td>20</td>\n",
       "      <td>312</td>\n",
       "      <td>9</td>\n",
       "      <td>Flat</td>\n",
       "      <td>Other</td>\n",
       "      <td>Bamboo/Timber-Light roof</td>\n",
       "      <td>Mud</td>\n",
       "      <td>Not applicable</td>\n",
       "      <td>Not attached</td>\n",
       "      <td>...</td>\n",
       "      <td>0</td>\n",
       "      <td>0</td>\n",
       "      <td>0</td>\n",
       "      <td>0</td>\n",
       "      <td>0</td>\n",
       "      <td>0</td>\n",
       "      <td>0</td>\n",
       "      <td>0</td>\n",
       "      <td>0</td>\n",
       "      <td>2</td>\n",
       "    </tr>\n",
       "    <tr>\n",
       "      <th>120101000051</th>\n",
       "      <td>1</td>\n",
       "      <td>30</td>\n",
       "      <td>308</td>\n",
       "      <td>9</td>\n",
       "      <td>Flat</td>\n",
       "      <td>Other</td>\n",
       "      <td>Bamboo/Timber-Light roof</td>\n",
       "      <td>Mud</td>\n",
       "      <td>Not applicable</td>\n",
       "      <td>Not attached</td>\n",
       "      <td>...</td>\n",
       "      <td>0</td>\n",
       "      <td>0</td>\n",
       "      <td>0</td>\n",
       "      <td>0</td>\n",
       "      <td>0</td>\n",
       "      <td>0</td>\n",
       "      <td>0</td>\n",
       "      <td>0</td>\n",
       "      <td>0</td>\n",
       "      <td>1</td>\n",
       "    </tr>\n",
       "  </tbody>\n",
       "</table>\n",
       "<p>5 rows × 23 columns</p>\n",
       "</div>"
      ],
      "text/plain": [
       "              count_floors_pre_eq  age_building  plinth_area_sq_ft  \\\n",
       "building_id                                                          \n",
       "120101000011                    1             9                288   \n",
       "120101000021                    1            15                364   \n",
       "120101000031                    1            20                384   \n",
       "120101000041                    1            20                312   \n",
       "120101000051                    1            30                308   \n",
       "\n",
       "              height_ft_pre_eq land_surface_condition foundation_type  \\\n",
       "building_id                                                             \n",
       "120101000011                 9                   Flat           Other   \n",
       "120101000021                 9                   Flat           Other   \n",
       "120101000031                 9                   Flat           Other   \n",
       "120101000041                 9                   Flat           Other   \n",
       "120101000051                 9                   Flat           Other   \n",
       "\n",
       "                             roof_type ground_floor_type other_floor_type  \\\n",
       "building_id                                                                 \n",
       "120101000011  Bamboo/Timber-Light roof               Mud   Not applicable   \n",
       "120101000021  Bamboo/Timber-Light roof               Mud   Not applicable   \n",
       "120101000031  Bamboo/Timber-Light roof               Mud   Not applicable   \n",
       "120101000041  Bamboo/Timber-Light roof               Mud   Not applicable   \n",
       "120101000051  Bamboo/Timber-Light roof               Mud   Not applicable   \n",
       "\n",
       "                  position  ... has_superstructure_stone_flag  \\\n",
       "building_id                 ...                                 \n",
       "120101000011  Not attached  ...                             0   \n",
       "120101000021  Not attached  ...                             0   \n",
       "120101000031  Not attached  ...                             0   \n",
       "120101000041  Not attached  ...                             0   \n",
       "120101000051  Not attached  ...                             0   \n",
       "\n",
       "              has_superstructure_cement_mortar_stone  \\\n",
       "building_id                                            \n",
       "120101000011                                       0   \n",
       "120101000021                                       0   \n",
       "120101000031                                       0   \n",
       "120101000041                                       0   \n",
       "120101000051                                       0   \n",
       "\n",
       "              has_superstructure_mud_mortar_brick  \\\n",
       "building_id                                         \n",
       "120101000011                                    0   \n",
       "120101000021                                    0   \n",
       "120101000031                                    0   \n",
       "120101000041                                    0   \n",
       "120101000051                                    0   \n",
       "\n",
       "              has_superstructure_cement_mortar_brick  \\\n",
       "building_id                                            \n",
       "120101000011                                       0   \n",
       "120101000021                                       0   \n",
       "120101000031                                       0   \n",
       "120101000041                                       0   \n",
       "120101000051                                       0   \n",
       "\n",
       "              has_superstructure_timber  has_superstructure_bamboo  \\\n",
       "building_id                                                          \n",
       "120101000011                          0                          1   \n",
       "120101000021                          0                          1   \n",
       "120101000031                          0                          0   \n",
       "120101000041                          0                          0   \n",
       "120101000051                          0                          0   \n",
       "\n",
       "              has_superstructure_rc_non_engineered  \\\n",
       "building_id                                          \n",
       "120101000011                                     0   \n",
       "120101000021                                     0   \n",
       "120101000031                                     0   \n",
       "120101000041                                     0   \n",
       "120101000051                                     0   \n",
       "\n",
       "              has_superstructure_rc_engineered  has_superstructure_other  \\\n",
       "building_id                                                                \n",
       "120101000011                                 0                         0   \n",
       "120101000021                                 0                         0   \n",
       "120101000031                                 0                         0   \n",
       "120101000041                                 0                         0   \n",
       "120101000051                                 0                         0   \n",
       "\n",
       "              damage_grade  \n",
       "building_id                 \n",
       "120101000011             3  \n",
       "120101000021             5  \n",
       "120101000031             2  \n",
       "120101000041             2  \n",
       "120101000051             1  \n",
       "\n",
       "[5 rows x 23 columns]"
      ]
     },
     "execution_count": 15,
     "metadata": {},
     "output_type": "execute_result"
    }
   ],
   "source": [
    "df.head()"
   ]
  },
  {
   "cell_type": "markdown",
   "id": "88002b81",
   "metadata": {},
   "source": [
    "Let's extract the numerical columns."
   ]
  },
  {
   "cell_type": "code",
   "execution_count": 16,
   "id": "bba90b9f",
   "metadata": {},
   "outputs": [
    {
     "data": {
      "text/html": [
       "<div>\n",
       "<style scoped>\n",
       "    .dataframe tbody tr th:only-of-type {\n",
       "        vertical-align: middle;\n",
       "    }\n",
       "\n",
       "    .dataframe tbody tr th {\n",
       "        vertical-align: top;\n",
       "    }\n",
       "\n",
       "    .dataframe thead th {\n",
       "        text-align: right;\n",
       "    }\n",
       "</style>\n",
       "<table border=\"1\" class=\"dataframe\">\n",
       "  <thead>\n",
       "    <tr style=\"text-align: right;\">\n",
       "      <th></th>\n",
       "      <th>count_floors_pre_eq</th>\n",
       "      <th>age_building</th>\n",
       "      <th>plinth_area_sq_ft</th>\n",
       "      <th>height_ft_pre_eq</th>\n",
       "      <th>has_superstructure_adobe_mud</th>\n",
       "      <th>has_superstructure_mud_mortar_stone</th>\n",
       "      <th>has_superstructure_stone_flag</th>\n",
       "      <th>has_superstructure_cement_mortar_stone</th>\n",
       "      <th>has_superstructure_mud_mortar_brick</th>\n",
       "      <th>has_superstructure_cement_mortar_brick</th>\n",
       "      <th>has_superstructure_timber</th>\n",
       "      <th>has_superstructure_bamboo</th>\n",
       "      <th>has_superstructure_rc_non_engineered</th>\n",
       "      <th>has_superstructure_rc_engineered</th>\n",
       "      <th>has_superstructure_other</th>\n",
       "      <th>damage_grade</th>\n",
       "    </tr>\n",
       "    <tr>\n",
       "      <th>building_id</th>\n",
       "      <th></th>\n",
       "      <th></th>\n",
       "      <th></th>\n",
       "      <th></th>\n",
       "      <th></th>\n",
       "      <th></th>\n",
       "      <th></th>\n",
       "      <th></th>\n",
       "      <th></th>\n",
       "      <th></th>\n",
       "      <th></th>\n",
       "      <th></th>\n",
       "      <th></th>\n",
       "      <th></th>\n",
       "      <th></th>\n",
       "      <th></th>\n",
       "    </tr>\n",
       "  </thead>\n",
       "  <tbody>\n",
       "    <tr>\n",
       "      <th>120101000011</th>\n",
       "      <td>1</td>\n",
       "      <td>9</td>\n",
       "      <td>288</td>\n",
       "      <td>9</td>\n",
       "      <td>0</td>\n",
       "      <td>1</td>\n",
       "      <td>0</td>\n",
       "      <td>0</td>\n",
       "      <td>0</td>\n",
       "      <td>0</td>\n",
       "      <td>0</td>\n",
       "      <td>1</td>\n",
       "      <td>0</td>\n",
       "      <td>0</td>\n",
       "      <td>0</td>\n",
       "      <td>3</td>\n",
       "    </tr>\n",
       "    <tr>\n",
       "      <th>120101000021</th>\n",
       "      <td>1</td>\n",
       "      <td>15</td>\n",
       "      <td>364</td>\n",
       "      <td>9</td>\n",
       "      <td>0</td>\n",
       "      <td>1</td>\n",
       "      <td>0</td>\n",
       "      <td>0</td>\n",
       "      <td>0</td>\n",
       "      <td>0</td>\n",
       "      <td>0</td>\n",
       "      <td>1</td>\n",
       "      <td>0</td>\n",
       "      <td>0</td>\n",
       "      <td>0</td>\n",
       "      <td>5</td>\n",
       "    </tr>\n",
       "    <tr>\n",
       "      <th>120101000031</th>\n",
       "      <td>1</td>\n",
       "      <td>20</td>\n",
       "      <td>384</td>\n",
       "      <td>9</td>\n",
       "      <td>0</td>\n",
       "      <td>1</td>\n",
       "      <td>0</td>\n",
       "      <td>0</td>\n",
       "      <td>0</td>\n",
       "      <td>0</td>\n",
       "      <td>0</td>\n",
       "      <td>0</td>\n",
       "      <td>0</td>\n",
       "      <td>0</td>\n",
       "      <td>0</td>\n",
       "      <td>2</td>\n",
       "    </tr>\n",
       "    <tr>\n",
       "      <th>120101000041</th>\n",
       "      <td>1</td>\n",
       "      <td>20</td>\n",
       "      <td>312</td>\n",
       "      <td>9</td>\n",
       "      <td>0</td>\n",
       "      <td>1</td>\n",
       "      <td>0</td>\n",
       "      <td>0</td>\n",
       "      <td>0</td>\n",
       "      <td>0</td>\n",
       "      <td>0</td>\n",
       "      <td>0</td>\n",
       "      <td>0</td>\n",
       "      <td>0</td>\n",
       "      <td>0</td>\n",
       "      <td>2</td>\n",
       "    </tr>\n",
       "    <tr>\n",
       "      <th>120101000051</th>\n",
       "      <td>1</td>\n",
       "      <td>30</td>\n",
       "      <td>308</td>\n",
       "      <td>9</td>\n",
       "      <td>0</td>\n",
       "      <td>1</td>\n",
       "      <td>0</td>\n",
       "      <td>0</td>\n",
       "      <td>0</td>\n",
       "      <td>0</td>\n",
       "      <td>0</td>\n",
       "      <td>0</td>\n",
       "      <td>0</td>\n",
       "      <td>0</td>\n",
       "      <td>0</td>\n",
       "      <td>1</td>\n",
       "    </tr>\n",
       "  </tbody>\n",
       "</table>\n",
       "</div>"
      ],
      "text/plain": [
       "              count_floors_pre_eq  age_building  plinth_area_sq_ft  \\\n",
       "building_id                                                          \n",
       "120101000011                    1             9                288   \n",
       "120101000021                    1            15                364   \n",
       "120101000031                    1            20                384   \n",
       "120101000041                    1            20                312   \n",
       "120101000051                    1            30                308   \n",
       "\n",
       "              height_ft_pre_eq  has_superstructure_adobe_mud  \\\n",
       "building_id                                                    \n",
       "120101000011                 9                             0   \n",
       "120101000021                 9                             0   \n",
       "120101000031                 9                             0   \n",
       "120101000041                 9                             0   \n",
       "120101000051                 9                             0   \n",
       "\n",
       "              has_superstructure_mud_mortar_stone  \\\n",
       "building_id                                         \n",
       "120101000011                                    1   \n",
       "120101000021                                    1   \n",
       "120101000031                                    1   \n",
       "120101000041                                    1   \n",
       "120101000051                                    1   \n",
       "\n",
       "              has_superstructure_stone_flag  \\\n",
       "building_id                                   \n",
       "120101000011                              0   \n",
       "120101000021                              0   \n",
       "120101000031                              0   \n",
       "120101000041                              0   \n",
       "120101000051                              0   \n",
       "\n",
       "              has_superstructure_cement_mortar_stone  \\\n",
       "building_id                                            \n",
       "120101000011                                       0   \n",
       "120101000021                                       0   \n",
       "120101000031                                       0   \n",
       "120101000041                                       0   \n",
       "120101000051                                       0   \n",
       "\n",
       "              has_superstructure_mud_mortar_brick  \\\n",
       "building_id                                         \n",
       "120101000011                                    0   \n",
       "120101000021                                    0   \n",
       "120101000031                                    0   \n",
       "120101000041                                    0   \n",
       "120101000051                                    0   \n",
       "\n",
       "              has_superstructure_cement_mortar_brick  \\\n",
       "building_id                                            \n",
       "120101000011                                       0   \n",
       "120101000021                                       0   \n",
       "120101000031                                       0   \n",
       "120101000041                                       0   \n",
       "120101000051                                       0   \n",
       "\n",
       "              has_superstructure_timber  has_superstructure_bamboo  \\\n",
       "building_id                                                          \n",
       "120101000011                          0                          1   \n",
       "120101000021                          0                          1   \n",
       "120101000031                          0                          0   \n",
       "120101000041                          0                          0   \n",
       "120101000051                          0                          0   \n",
       "\n",
       "              has_superstructure_rc_non_engineered  \\\n",
       "building_id                                          \n",
       "120101000011                                     0   \n",
       "120101000021                                     0   \n",
       "120101000031                                     0   \n",
       "120101000041                                     0   \n",
       "120101000051                                     0   \n",
       "\n",
       "              has_superstructure_rc_engineered  has_superstructure_other  \\\n",
       "building_id                                                                \n",
       "120101000011                                 0                         0   \n",
       "120101000021                                 0                         0   \n",
       "120101000031                                 0                         0   \n",
       "120101000041                                 0                         0   \n",
       "120101000051                                 0                         0   \n",
       "\n",
       "              damage_grade  \n",
       "building_id                 \n",
       "120101000011             3  \n",
       "120101000021             5  \n",
       "120101000031             2  \n",
       "120101000041             2  \n",
       "120101000051             1  "
      ]
     },
     "execution_count": 16,
     "metadata": {},
     "output_type": "execute_result"
    }
   ],
   "source": [
    "df_num = df[[column for column in df.columns if df[column].dtype == \"int\"]]\n",
    "df_num.head()"
   ]
  },
  {
   "cell_type": "markdown",
   "id": "3de54c59",
   "metadata": {},
   "source": [
    "### Visualisation"
   ]
  },
  {
   "cell_type": "markdown",
   "id": "ec9fcefb",
   "metadata": {},
   "source": [
    "Now we will try to look at the relationship between different variables and the target variable."
   ]
  },
  {
   "cell_type": "markdown",
   "id": "f3376c47",
   "metadata": {},
   "source": [
    "Let's check if any variables are correlated or not with a correlation matrix and then with a heatmap."
   ]
  },
  {
   "cell_type": "code",
   "execution_count": 17,
   "id": "92f6cb75",
   "metadata": {},
   "outputs": [
    {
     "data": {
      "text/html": [
       "<div>\n",
       "<style scoped>\n",
       "    .dataframe tbody tr th:only-of-type {\n",
       "        vertical-align: middle;\n",
       "    }\n",
       "\n",
       "    .dataframe tbody tr th {\n",
       "        vertical-align: top;\n",
       "    }\n",
       "\n",
       "    .dataframe thead th {\n",
       "        text-align: right;\n",
       "    }\n",
       "</style>\n",
       "<table border=\"1\" class=\"dataframe\">\n",
       "  <thead>\n",
       "    <tr style=\"text-align: right;\">\n",
       "      <th></th>\n",
       "      <th>count_floors_pre_eq</th>\n",
       "      <th>age_building</th>\n",
       "      <th>plinth_area_sq_ft</th>\n",
       "      <th>height_ft_pre_eq</th>\n",
       "      <th>has_superstructure_adobe_mud</th>\n",
       "      <th>has_superstructure_mud_mortar_stone</th>\n",
       "      <th>has_superstructure_stone_flag</th>\n",
       "      <th>has_superstructure_cement_mortar_stone</th>\n",
       "      <th>has_superstructure_mud_mortar_brick</th>\n",
       "      <th>has_superstructure_cement_mortar_brick</th>\n",
       "      <th>has_superstructure_timber</th>\n",
       "      <th>has_superstructure_bamboo</th>\n",
       "      <th>has_superstructure_rc_non_engineered</th>\n",
       "      <th>has_superstructure_rc_engineered</th>\n",
       "      <th>has_superstructure_other</th>\n",
       "      <th>damage_grade</th>\n",
       "    </tr>\n",
       "  </thead>\n",
       "  <tbody>\n",
       "    <tr>\n",
       "      <th>count_floors_pre_eq</th>\n",
       "      <td>1.000000</td>\n",
       "      <td>0.047125</td>\n",
       "      <td>0.102366</td>\n",
       "      <td>0.711189</td>\n",
       "      <td>0.035569</td>\n",
       "      <td>0.179642</td>\n",
       "      <td>-0.035185</td>\n",
       "      <td>-0.005380</td>\n",
       "      <td>0.032694</td>\n",
       "      <td>-0.152181</td>\n",
       "      <td>-0.078350</td>\n",
       "      <td>-0.085067</td>\n",
       "      <td>0.012108</td>\n",
       "      <td>0.059964</td>\n",
       "      <td>-0.045197</td>\n",
       "      <td>0.188363</td>\n",
       "    </tr>\n",
       "    <tr>\n",
       "      <th>age_building</th>\n",
       "      <td>0.047125</td>\n",
       "      <td>1.000000</td>\n",
       "      <td>-0.008477</td>\n",
       "      <td>0.036432</td>\n",
       "      <td>0.041384</td>\n",
       "      <td>0.044658</td>\n",
       "      <td>0.016227</td>\n",
       "      <td>-0.015838</td>\n",
       "      <td>0.021048</td>\n",
       "      <td>-0.041119</td>\n",
       "      <td>-0.014493</td>\n",
       "      <td>-0.035043</td>\n",
       "      <td>-0.032327</td>\n",
       "      <td>-0.023825</td>\n",
       "      <td>-0.011564</td>\n",
       "      <td>0.053863</td>\n",
       "    </tr>\n",
       "    <tr>\n",
       "      <th>plinth_area_sq_ft</th>\n",
       "      <td>0.102366</td>\n",
       "      <td>-0.008477</td>\n",
       "      <td>1.000000</td>\n",
       "      <td>0.203796</td>\n",
       "      <td>-0.003479</td>\n",
       "      <td>-0.238948</td>\n",
       "      <td>-0.002596</td>\n",
       "      <td>0.071878</td>\n",
       "      <td>0.038415</td>\n",
       "      <td>0.231981</td>\n",
       "      <td>-0.068539</td>\n",
       "      <td>-0.046654</td>\n",
       "      <td>0.207494</td>\n",
       "      <td>0.253335</td>\n",
       "      <td>-0.007112</td>\n",
       "      <td>-0.168073</td>\n",
       "    </tr>\n",
       "    <tr>\n",
       "      <th>height_ft_pre_eq</th>\n",
       "      <td>0.711189</td>\n",
       "      <td>0.036432</td>\n",
       "      <td>0.203796</td>\n",
       "      <td>1.000000</td>\n",
       "      <td>0.042477</td>\n",
       "      <td>0.034585</td>\n",
       "      <td>-0.022527</td>\n",
       "      <td>0.028492</td>\n",
       "      <td>0.033439</td>\n",
       "      <td>-0.031462</td>\n",
       "      <td>-0.070366</td>\n",
       "      <td>-0.080903</td>\n",
       "      <td>0.103014</td>\n",
       "      <td>0.146838</td>\n",
       "      <td>-0.036279</td>\n",
       "      <td>0.055052</td>\n",
       "    </tr>\n",
       "    <tr>\n",
       "      <th>has_superstructure_adobe_mud</th>\n",
       "      <td>0.035569</td>\n",
       "      <td>0.041384</td>\n",
       "      <td>-0.003479</td>\n",
       "      <td>0.042477</td>\n",
       "      <td>1.000000</td>\n",
       "      <td>-0.150662</td>\n",
       "      <td>0.017584</td>\n",
       "      <td>-0.000421</td>\n",
       "      <td>0.146298</td>\n",
       "      <td>-0.045669</td>\n",
       "      <td>0.038720</td>\n",
       "      <td>-0.009665</td>\n",
       "      <td>-0.032477</td>\n",
       "      <td>-0.024236</td>\n",
       "      <td>0.043216</td>\n",
       "      <td>0.005949</td>\n",
       "    </tr>\n",
       "    <tr>\n",
       "      <th>has_superstructure_mud_mortar_stone</th>\n",
       "      <td>0.179642</td>\n",
       "      <td>0.044658</td>\n",
       "      <td>-0.238948</td>\n",
       "      <td>0.034585</td>\n",
       "      <td>-0.150662</td>\n",
       "      <td>1.000000</td>\n",
       "      <td>-0.085205</td>\n",
       "      <td>-0.132182</td>\n",
       "      <td>-0.195151</td>\n",
       "      <td>-0.518044</td>\n",
       "      <td>-0.119340</td>\n",
       "      <td>-0.125863</td>\n",
       "      <td>-0.278698</td>\n",
       "      <td>-0.255671</td>\n",
       "      <td>-0.058518</td>\n",
       "      <td>0.480441</td>\n",
       "    </tr>\n",
       "    <tr>\n",
       "      <th>has_superstructure_stone_flag</th>\n",
       "      <td>-0.035185</td>\n",
       "      <td>0.016227</td>\n",
       "      <td>-0.002596</td>\n",
       "      <td>-0.022527</td>\n",
       "      <td>0.017584</td>\n",
       "      <td>-0.085205</td>\n",
       "      <td>1.000000</td>\n",
       "      <td>0.024892</td>\n",
       "      <td>-0.011355</td>\n",
       "      <td>-0.045984</td>\n",
       "      <td>0.109058</td>\n",
       "      <td>0.037044</td>\n",
       "      <td>-0.000807</td>\n",
       "      <td>-0.022436</td>\n",
       "      <td>0.029630</td>\n",
       "      <td>0.065972</td>\n",
       "    </tr>\n",
       "    <tr>\n",
       "      <th>has_superstructure_cement_mortar_stone</th>\n",
       "      <td>-0.005380</td>\n",
       "      <td>-0.015838</td>\n",
       "      <td>0.071878</td>\n",
       "      <td>0.028492</td>\n",
       "      <td>-0.000421</td>\n",
       "      <td>-0.132182</td>\n",
       "      <td>0.024892</td>\n",
       "      <td>1.000000</td>\n",
       "      <td>0.020310</td>\n",
       "      <td>0.088477</td>\n",
       "      <td>0.009415</td>\n",
       "      <td>-0.009784</td>\n",
       "      <td>0.085138</td>\n",
       "      <td>0.028953</td>\n",
       "      <td>0.005601</td>\n",
       "      <td>-0.066205</td>\n",
       "    </tr>\n",
       "    <tr>\n",
       "      <th>has_superstructure_mud_mortar_brick</th>\n",
       "      <td>0.032694</td>\n",
       "      <td>0.021048</td>\n",
       "      <td>0.038415</td>\n",
       "      <td>0.033439</td>\n",
       "      <td>0.146298</td>\n",
       "      <td>-0.195151</td>\n",
       "      <td>-0.011355</td>\n",
       "      <td>0.020310</td>\n",
       "      <td>1.000000</td>\n",
       "      <td>0.000930</td>\n",
       "      <td>0.001136</td>\n",
       "      <td>-0.021782</td>\n",
       "      <td>-0.003153</td>\n",
       "      <td>-0.008953</td>\n",
       "      <td>0.005590</td>\n",
       "      <td>-0.031637</td>\n",
       "    </tr>\n",
       "    <tr>\n",
       "      <th>has_superstructure_cement_mortar_brick</th>\n",
       "      <td>-0.152181</td>\n",
       "      <td>-0.041119</td>\n",
       "      <td>0.231981</td>\n",
       "      <td>-0.031462</td>\n",
       "      <td>-0.045669</td>\n",
       "      <td>-0.518044</td>\n",
       "      <td>-0.045984</td>\n",
       "      <td>0.088477</td>\n",
       "      <td>0.000930</td>\n",
       "      <td>1.000000</td>\n",
       "      <td>-0.058684</td>\n",
       "      <td>-0.048630</td>\n",
       "      <td>0.151883</td>\n",
       "      <td>0.125926</td>\n",
       "      <td>-0.006612</td>\n",
       "      <td>-0.349376</td>\n",
       "    </tr>\n",
       "    <tr>\n",
       "      <th>has_superstructure_timber</th>\n",
       "      <td>-0.078350</td>\n",
       "      <td>-0.014493</td>\n",
       "      <td>-0.068539</td>\n",
       "      <td>-0.070366</td>\n",
       "      <td>0.038720</td>\n",
       "      <td>-0.119340</td>\n",
       "      <td>0.109058</td>\n",
       "      <td>0.009415</td>\n",
       "      <td>0.001136</td>\n",
       "      <td>-0.058684</td>\n",
       "      <td>1.000000</td>\n",
       "      <td>0.407687</td>\n",
       "      <td>-0.040475</td>\n",
       "      <td>-0.072062</td>\n",
       "      <td>0.087693</td>\n",
       "      <td>-0.111689</td>\n",
       "    </tr>\n",
       "    <tr>\n",
       "      <th>has_superstructure_bamboo</th>\n",
       "      <td>-0.085067</td>\n",
       "      <td>-0.035043</td>\n",
       "      <td>-0.046654</td>\n",
       "      <td>-0.080903</td>\n",
       "      <td>-0.009665</td>\n",
       "      <td>-0.125863</td>\n",
       "      <td>0.037044</td>\n",
       "      <td>-0.009784</td>\n",
       "      <td>-0.021782</td>\n",
       "      <td>-0.048630</td>\n",
       "      <td>0.407687</td>\n",
       "      <td>1.000000</td>\n",
       "      <td>0.024186</td>\n",
       "      <td>-0.037008</td>\n",
       "      <td>0.066039</td>\n",
       "      <td>-0.110477</td>\n",
       "    </tr>\n",
       "    <tr>\n",
       "      <th>has_superstructure_rc_non_engineered</th>\n",
       "      <td>0.012108</td>\n",
       "      <td>-0.032327</td>\n",
       "      <td>0.207494</td>\n",
       "      <td>0.103014</td>\n",
       "      <td>-0.032477</td>\n",
       "      <td>-0.278698</td>\n",
       "      <td>-0.000807</td>\n",
       "      <td>0.085138</td>\n",
       "      <td>-0.003153</td>\n",
       "      <td>0.151883</td>\n",
       "      <td>-0.040475</td>\n",
       "      <td>0.024186</td>\n",
       "      <td>1.000000</td>\n",
       "      <td>-0.008457</td>\n",
       "      <td>-0.015933</td>\n",
       "      <td>-0.208014</td>\n",
       "    </tr>\n",
       "    <tr>\n",
       "      <th>has_superstructure_rc_engineered</th>\n",
       "      <td>0.059964</td>\n",
       "      <td>-0.023825</td>\n",
       "      <td>0.253335</td>\n",
       "      <td>0.146838</td>\n",
       "      <td>-0.024236</td>\n",
       "      <td>-0.255671</td>\n",
       "      <td>-0.022436</td>\n",
       "      <td>0.028953</td>\n",
       "      <td>-0.008953</td>\n",
       "      <td>0.125926</td>\n",
       "      <td>-0.072062</td>\n",
       "      <td>-0.037008</td>\n",
       "      <td>-0.008457</td>\n",
       "      <td>1.000000</td>\n",
       "      <td>-0.012344</td>\n",
       "      <td>-0.211588</td>\n",
       "    </tr>\n",
       "    <tr>\n",
       "      <th>has_superstructure_other</th>\n",
       "      <td>-0.045197</td>\n",
       "      <td>-0.011564</td>\n",
       "      <td>-0.007112</td>\n",
       "      <td>-0.036279</td>\n",
       "      <td>0.043216</td>\n",
       "      <td>-0.058518</td>\n",
       "      <td>0.029630</td>\n",
       "      <td>0.005601</td>\n",
       "      <td>0.005590</td>\n",
       "      <td>-0.006612</td>\n",
       "      <td>0.087693</td>\n",
       "      <td>0.066039</td>\n",
       "      <td>-0.015933</td>\n",
       "      <td>-0.012344</td>\n",
       "      <td>1.000000</td>\n",
       "      <td>-0.049159</td>\n",
       "    </tr>\n",
       "    <tr>\n",
       "      <th>damage_grade</th>\n",
       "      <td>0.188363</td>\n",
       "      <td>0.053863</td>\n",
       "      <td>-0.168073</td>\n",
       "      <td>0.055052</td>\n",
       "      <td>0.005949</td>\n",
       "      <td>0.480441</td>\n",
       "      <td>0.065972</td>\n",
       "      <td>-0.066205</td>\n",
       "      <td>-0.031637</td>\n",
       "      <td>-0.349376</td>\n",
       "      <td>-0.111689</td>\n",
       "      <td>-0.110477</td>\n",
       "      <td>-0.208014</td>\n",
       "      <td>-0.211588</td>\n",
       "      <td>-0.049159</td>\n",
       "      <td>1.000000</td>\n",
       "    </tr>\n",
       "  </tbody>\n",
       "</table>\n",
       "</div>"
      ],
      "text/plain": [
       "                                        count_floors_pre_eq  age_building  \\\n",
       "count_floors_pre_eq                                1.000000      0.047125   \n",
       "age_building                                       0.047125      1.000000   \n",
       "plinth_area_sq_ft                                  0.102366     -0.008477   \n",
       "height_ft_pre_eq                                   0.711189      0.036432   \n",
       "has_superstructure_adobe_mud                       0.035569      0.041384   \n",
       "has_superstructure_mud_mortar_stone                0.179642      0.044658   \n",
       "has_superstructure_stone_flag                     -0.035185      0.016227   \n",
       "has_superstructure_cement_mortar_stone            -0.005380     -0.015838   \n",
       "has_superstructure_mud_mortar_brick                0.032694      0.021048   \n",
       "has_superstructure_cement_mortar_brick            -0.152181     -0.041119   \n",
       "has_superstructure_timber                         -0.078350     -0.014493   \n",
       "has_superstructure_bamboo                         -0.085067     -0.035043   \n",
       "has_superstructure_rc_non_engineered               0.012108     -0.032327   \n",
       "has_superstructure_rc_engineered                   0.059964     -0.023825   \n",
       "has_superstructure_other                          -0.045197     -0.011564   \n",
       "damage_grade                                       0.188363      0.053863   \n",
       "\n",
       "                                        plinth_area_sq_ft  height_ft_pre_eq  \\\n",
       "count_floors_pre_eq                              0.102366          0.711189   \n",
       "age_building                                    -0.008477          0.036432   \n",
       "plinth_area_sq_ft                                1.000000          0.203796   \n",
       "height_ft_pre_eq                                 0.203796          1.000000   \n",
       "has_superstructure_adobe_mud                    -0.003479          0.042477   \n",
       "has_superstructure_mud_mortar_stone             -0.238948          0.034585   \n",
       "has_superstructure_stone_flag                   -0.002596         -0.022527   \n",
       "has_superstructure_cement_mortar_stone           0.071878          0.028492   \n",
       "has_superstructure_mud_mortar_brick              0.038415          0.033439   \n",
       "has_superstructure_cement_mortar_brick           0.231981         -0.031462   \n",
       "has_superstructure_timber                       -0.068539         -0.070366   \n",
       "has_superstructure_bamboo                       -0.046654         -0.080903   \n",
       "has_superstructure_rc_non_engineered             0.207494          0.103014   \n",
       "has_superstructure_rc_engineered                 0.253335          0.146838   \n",
       "has_superstructure_other                        -0.007112         -0.036279   \n",
       "damage_grade                                    -0.168073          0.055052   \n",
       "\n",
       "                                        has_superstructure_adobe_mud  \\\n",
       "count_floors_pre_eq                                         0.035569   \n",
       "age_building                                                0.041384   \n",
       "plinth_area_sq_ft                                          -0.003479   \n",
       "height_ft_pre_eq                                            0.042477   \n",
       "has_superstructure_adobe_mud                                1.000000   \n",
       "has_superstructure_mud_mortar_stone                        -0.150662   \n",
       "has_superstructure_stone_flag                               0.017584   \n",
       "has_superstructure_cement_mortar_stone                     -0.000421   \n",
       "has_superstructure_mud_mortar_brick                         0.146298   \n",
       "has_superstructure_cement_mortar_brick                     -0.045669   \n",
       "has_superstructure_timber                                   0.038720   \n",
       "has_superstructure_bamboo                                  -0.009665   \n",
       "has_superstructure_rc_non_engineered                       -0.032477   \n",
       "has_superstructure_rc_engineered                           -0.024236   \n",
       "has_superstructure_other                                    0.043216   \n",
       "damage_grade                                                0.005949   \n",
       "\n",
       "                                        has_superstructure_mud_mortar_stone  \\\n",
       "count_floors_pre_eq                                                0.179642   \n",
       "age_building                                                       0.044658   \n",
       "plinth_area_sq_ft                                                 -0.238948   \n",
       "height_ft_pre_eq                                                   0.034585   \n",
       "has_superstructure_adobe_mud                                      -0.150662   \n",
       "has_superstructure_mud_mortar_stone                                1.000000   \n",
       "has_superstructure_stone_flag                                     -0.085205   \n",
       "has_superstructure_cement_mortar_stone                            -0.132182   \n",
       "has_superstructure_mud_mortar_brick                               -0.195151   \n",
       "has_superstructure_cement_mortar_brick                            -0.518044   \n",
       "has_superstructure_timber                                         -0.119340   \n",
       "has_superstructure_bamboo                                         -0.125863   \n",
       "has_superstructure_rc_non_engineered                              -0.278698   \n",
       "has_superstructure_rc_engineered                                  -0.255671   \n",
       "has_superstructure_other                                          -0.058518   \n",
       "damage_grade                                                       0.480441   \n",
       "\n",
       "                                        has_superstructure_stone_flag  \\\n",
       "count_floors_pre_eq                                         -0.035185   \n",
       "age_building                                                 0.016227   \n",
       "plinth_area_sq_ft                                           -0.002596   \n",
       "height_ft_pre_eq                                            -0.022527   \n",
       "has_superstructure_adobe_mud                                 0.017584   \n",
       "has_superstructure_mud_mortar_stone                         -0.085205   \n",
       "has_superstructure_stone_flag                                1.000000   \n",
       "has_superstructure_cement_mortar_stone                       0.024892   \n",
       "has_superstructure_mud_mortar_brick                         -0.011355   \n",
       "has_superstructure_cement_mortar_brick                      -0.045984   \n",
       "has_superstructure_timber                                    0.109058   \n",
       "has_superstructure_bamboo                                    0.037044   \n",
       "has_superstructure_rc_non_engineered                        -0.000807   \n",
       "has_superstructure_rc_engineered                            -0.022436   \n",
       "has_superstructure_other                                     0.029630   \n",
       "damage_grade                                                 0.065972   \n",
       "\n",
       "                                        has_superstructure_cement_mortar_stone  \\\n",
       "count_floors_pre_eq                                                  -0.005380   \n",
       "age_building                                                         -0.015838   \n",
       "plinth_area_sq_ft                                                     0.071878   \n",
       "height_ft_pre_eq                                                      0.028492   \n",
       "has_superstructure_adobe_mud                                         -0.000421   \n",
       "has_superstructure_mud_mortar_stone                                  -0.132182   \n",
       "has_superstructure_stone_flag                                         0.024892   \n",
       "has_superstructure_cement_mortar_stone                                1.000000   \n",
       "has_superstructure_mud_mortar_brick                                   0.020310   \n",
       "has_superstructure_cement_mortar_brick                                0.088477   \n",
       "has_superstructure_timber                                             0.009415   \n",
       "has_superstructure_bamboo                                            -0.009784   \n",
       "has_superstructure_rc_non_engineered                                  0.085138   \n",
       "has_superstructure_rc_engineered                                      0.028953   \n",
       "has_superstructure_other                                              0.005601   \n",
       "damage_grade                                                         -0.066205   \n",
       "\n",
       "                                        has_superstructure_mud_mortar_brick  \\\n",
       "count_floors_pre_eq                                                0.032694   \n",
       "age_building                                                       0.021048   \n",
       "plinth_area_sq_ft                                                  0.038415   \n",
       "height_ft_pre_eq                                                   0.033439   \n",
       "has_superstructure_adobe_mud                                       0.146298   \n",
       "has_superstructure_mud_mortar_stone                               -0.195151   \n",
       "has_superstructure_stone_flag                                     -0.011355   \n",
       "has_superstructure_cement_mortar_stone                             0.020310   \n",
       "has_superstructure_mud_mortar_brick                                1.000000   \n",
       "has_superstructure_cement_mortar_brick                             0.000930   \n",
       "has_superstructure_timber                                          0.001136   \n",
       "has_superstructure_bamboo                                         -0.021782   \n",
       "has_superstructure_rc_non_engineered                              -0.003153   \n",
       "has_superstructure_rc_engineered                                  -0.008953   \n",
       "has_superstructure_other                                           0.005590   \n",
       "damage_grade                                                      -0.031637   \n",
       "\n",
       "                                        has_superstructure_cement_mortar_brick  \\\n",
       "count_floors_pre_eq                                                  -0.152181   \n",
       "age_building                                                         -0.041119   \n",
       "plinth_area_sq_ft                                                     0.231981   \n",
       "height_ft_pre_eq                                                     -0.031462   \n",
       "has_superstructure_adobe_mud                                         -0.045669   \n",
       "has_superstructure_mud_mortar_stone                                  -0.518044   \n",
       "has_superstructure_stone_flag                                        -0.045984   \n",
       "has_superstructure_cement_mortar_stone                                0.088477   \n",
       "has_superstructure_mud_mortar_brick                                   0.000930   \n",
       "has_superstructure_cement_mortar_brick                                1.000000   \n",
       "has_superstructure_timber                                            -0.058684   \n",
       "has_superstructure_bamboo                                            -0.048630   \n",
       "has_superstructure_rc_non_engineered                                  0.151883   \n",
       "has_superstructure_rc_engineered                                      0.125926   \n",
       "has_superstructure_other                                             -0.006612   \n",
       "damage_grade                                                         -0.349376   \n",
       "\n",
       "                                        has_superstructure_timber  \\\n",
       "count_floors_pre_eq                                     -0.078350   \n",
       "age_building                                            -0.014493   \n",
       "plinth_area_sq_ft                                       -0.068539   \n",
       "height_ft_pre_eq                                        -0.070366   \n",
       "has_superstructure_adobe_mud                             0.038720   \n",
       "has_superstructure_mud_mortar_stone                     -0.119340   \n",
       "has_superstructure_stone_flag                            0.109058   \n",
       "has_superstructure_cement_mortar_stone                   0.009415   \n",
       "has_superstructure_mud_mortar_brick                      0.001136   \n",
       "has_superstructure_cement_mortar_brick                  -0.058684   \n",
       "has_superstructure_timber                                1.000000   \n",
       "has_superstructure_bamboo                                0.407687   \n",
       "has_superstructure_rc_non_engineered                    -0.040475   \n",
       "has_superstructure_rc_engineered                        -0.072062   \n",
       "has_superstructure_other                                 0.087693   \n",
       "damage_grade                                            -0.111689   \n",
       "\n",
       "                                        has_superstructure_bamboo  \\\n",
       "count_floors_pre_eq                                     -0.085067   \n",
       "age_building                                            -0.035043   \n",
       "plinth_area_sq_ft                                       -0.046654   \n",
       "height_ft_pre_eq                                        -0.080903   \n",
       "has_superstructure_adobe_mud                            -0.009665   \n",
       "has_superstructure_mud_mortar_stone                     -0.125863   \n",
       "has_superstructure_stone_flag                            0.037044   \n",
       "has_superstructure_cement_mortar_stone                  -0.009784   \n",
       "has_superstructure_mud_mortar_brick                     -0.021782   \n",
       "has_superstructure_cement_mortar_brick                  -0.048630   \n",
       "has_superstructure_timber                                0.407687   \n",
       "has_superstructure_bamboo                                1.000000   \n",
       "has_superstructure_rc_non_engineered                     0.024186   \n",
       "has_superstructure_rc_engineered                        -0.037008   \n",
       "has_superstructure_other                                 0.066039   \n",
       "damage_grade                                            -0.110477   \n",
       "\n",
       "                                        has_superstructure_rc_non_engineered  \\\n",
       "count_floors_pre_eq                                                 0.012108   \n",
       "age_building                                                       -0.032327   \n",
       "plinth_area_sq_ft                                                   0.207494   \n",
       "height_ft_pre_eq                                                    0.103014   \n",
       "has_superstructure_adobe_mud                                       -0.032477   \n",
       "has_superstructure_mud_mortar_stone                                -0.278698   \n",
       "has_superstructure_stone_flag                                      -0.000807   \n",
       "has_superstructure_cement_mortar_stone                              0.085138   \n",
       "has_superstructure_mud_mortar_brick                                -0.003153   \n",
       "has_superstructure_cement_mortar_brick                              0.151883   \n",
       "has_superstructure_timber                                          -0.040475   \n",
       "has_superstructure_bamboo                                           0.024186   \n",
       "has_superstructure_rc_non_engineered                                1.000000   \n",
       "has_superstructure_rc_engineered                                   -0.008457   \n",
       "has_superstructure_other                                           -0.015933   \n",
       "damage_grade                                                       -0.208014   \n",
       "\n",
       "                                        has_superstructure_rc_engineered  \\\n",
       "count_floors_pre_eq                                             0.059964   \n",
       "age_building                                                   -0.023825   \n",
       "plinth_area_sq_ft                                               0.253335   \n",
       "height_ft_pre_eq                                                0.146838   \n",
       "has_superstructure_adobe_mud                                   -0.024236   \n",
       "has_superstructure_mud_mortar_stone                            -0.255671   \n",
       "has_superstructure_stone_flag                                  -0.022436   \n",
       "has_superstructure_cement_mortar_stone                          0.028953   \n",
       "has_superstructure_mud_mortar_brick                            -0.008953   \n",
       "has_superstructure_cement_mortar_brick                          0.125926   \n",
       "has_superstructure_timber                                      -0.072062   \n",
       "has_superstructure_bamboo                                      -0.037008   \n",
       "has_superstructure_rc_non_engineered                           -0.008457   \n",
       "has_superstructure_rc_engineered                                1.000000   \n",
       "has_superstructure_other                                       -0.012344   \n",
       "damage_grade                                                   -0.211588   \n",
       "\n",
       "                                        has_superstructure_other  damage_grade  \n",
       "count_floors_pre_eq                                    -0.045197      0.188363  \n",
       "age_building                                           -0.011564      0.053863  \n",
       "plinth_area_sq_ft                                      -0.007112     -0.168073  \n",
       "height_ft_pre_eq                                       -0.036279      0.055052  \n",
       "has_superstructure_adobe_mud                            0.043216      0.005949  \n",
       "has_superstructure_mud_mortar_stone                    -0.058518      0.480441  \n",
       "has_superstructure_stone_flag                           0.029630      0.065972  \n",
       "has_superstructure_cement_mortar_stone                  0.005601     -0.066205  \n",
       "has_superstructure_mud_mortar_brick                     0.005590     -0.031637  \n",
       "has_superstructure_cement_mortar_brick                 -0.006612     -0.349376  \n",
       "has_superstructure_timber                               0.087693     -0.111689  \n",
       "has_superstructure_bamboo                               0.066039     -0.110477  \n",
       "has_superstructure_rc_non_engineered                   -0.015933     -0.208014  \n",
       "has_superstructure_rc_engineered                       -0.012344     -0.211588  \n",
       "has_superstructure_other                                1.000000     -0.049159  \n",
       "damage_grade                                           -0.049159      1.000000  "
      ]
     },
     "execution_count": 17,
     "metadata": {},
     "output_type": "execute_result"
    }
   ],
   "source": [
    "df_num.corr()"
   ]
  },
  {
   "cell_type": "markdown",
   "id": "ff99767d",
   "metadata": {},
   "source": [
    "As expected, count_floors_pre_eq and height_ft_pre_eq have high correlation. So, we will discard the \"height_ft_pre_eq\" column as it has lower correlation with the target variable \"damage_grade\"."
   ]
  },
  {
   "cell_type": "code",
   "execution_count": 18,
   "id": "c53f857d",
   "metadata": {},
   "outputs": [
    {
     "name": "stderr",
     "output_type": "stream",
     "text": [
      "/home/nirmal/.local/lib/python3.8/site-packages/pandas/core/frame.py:4906: SettingWithCopyWarning: \n",
      "A value is trying to be set on a copy of a slice from a DataFrame\n",
      "\n",
      "See the caveats in the documentation: https://pandas.pydata.org/pandas-docs/stable/user_guide/indexing.html#returning-a-view-versus-a-copy\n",
      "  return super().drop(\n"
     ]
    }
   ],
   "source": [
    "df_num.drop(columns = [\"height_ft_pre_eq\"], inplace = True)\n",
    "df.drop(columns = [\"height_ft_pre_eq\"], inplace = True)"
   ]
  },
  {
   "cell_type": "markdown",
   "id": "275e1469",
   "metadata": {},
   "source": [
    "A few other columns look correlated but they seem to be independent. "
   ]
  },
  {
   "cell_type": "markdown",
   "id": "fb9ccf1f",
   "metadata": {},
   "source": [
    "Let's make a heatmap to visualise the same."
   ]
  },
  {
   "cell_type": "code",
   "execution_count": 19,
   "id": "978aca5a",
   "metadata": {},
   "outputs": [
    {
     "data": {
      "image/png": "[encoded data removed]",
      "text/plain": [
       "<Figure size 432x288 with 2 Axes>"
      ]
     },
     "metadata": {
      "needs_background": "light"
     },
     "output_type": "display_data"
    }
   ],
   "source": [
    "#Creating a heatmap\n",
    "sns.heatmap(df_num.corr().apply(abs), cmap = \"Blues\");"
   ]
  },
  {
   "cell_type": "markdown",
   "id": "ff4af32e",
   "metadata": {},
   "source": [
    "Let's look at the distribution of different columns.\n",
    "\n",
    "#### age_building"
   ]
  },
  {
   "cell_type": "code",
   "execution_count": 20,
   "id": "480dfbfc",
   "metadata": {},
   "outputs": [
    {
     "data": {
      "text/plain": [
       "Text(0.5, 0, 'Damage Grade')"
      ]
     },
     "execution_count": 20,
     "metadata": {},
     "output_type": "execute_result"
    },
    {
     "data": {
      "image/png": "[encoded data removed]",
      "text/plain": [
       "<Figure size 432x288 with 1 Axes>"
      ]
     },
     "metadata": {
      "needs_background": "light"
     },
     "output_type": "display_data"
    }
   ],
   "source": [
    "#Boxplots of building age for different damage grades\n",
    "sns.boxplot(y = \"age_building\", x = \"damage_grade\", data = df_num)\n",
    "plt.xlabel(\"Damage Grade\")\n"
   ]
  },
  {
   "cell_type": "markdown",
   "id": "c8522d0c",
   "metadata": {},
   "source": [
    "Clearly, the column has many outliers. "
   ]
  },
  {
   "cell_type": "code",
   "execution_count": 21,
   "id": "c439674f",
   "metadata": {},
   "outputs": [
    {
     "data": {
      "image/png": "[encoded data removed]",
      "text/plain": [
       "<Figure size 432x288 with 1 Axes>"
      ]
     },
     "metadata": {
      "needs_background": "light"
     },
     "output_type": "display_data"
    }
   ],
   "source": [
    "plt.scatter(x = df_num[\"age_building\"], y = df_num[\"damage_grade\"])\n",
    "plt.xlabel(\"Building Age\")\n",
    "plt.ylabel(\"Damage Grade\")\n",
    "plt.title(\"Damage Grade vs Building Age\");"
   ]
  },
  {
   "cell_type": "markdown",
   "id": "539a830a",
   "metadata": {},
   "source": [
    "The number of rows having building age greater than 200 is:"
   ]
  },
  {
   "cell_type": "code",
   "execution_count": 22,
   "id": "1eb10534",
   "metadata": {},
   "outputs": [
    {
     "name": "stdout",
     "output_type": "stream",
     "text": [
      "The number of rows having building age greater than 200 is:  3144\n"
     ]
    }
   ],
   "source": [
    "outliers = df_num.loc[df_num[\"age_building\"] > 200].shape[0]\n",
    "print(\"The number of rows having building age greater than 200 is: \", outliers)"
   ]
  },
  {
   "cell_type": "markdown",
   "id": "8feb6bef",
   "metadata": {},
   "source": [
    "We have to drop these rows as they are far away from other data points."
   ]
  },
  {
   "cell_type": "code",
   "execution_count": 23,
   "id": "182a9a95",
   "metadata": {},
   "outputs": [],
   "source": [
    "age_mask = df[\"age_building\"] < 200\n",
    "df_num = df_num[age_mask]"
   ]
  },
  {
   "cell_type": "code",
   "execution_count": 24,
   "id": "0352a591",
   "metadata": {},
   "outputs": [
    {
     "data": {
      "text/plain": [
       "Text(0.5, 0, 'Damage Grade')"
      ]
     },
     "execution_count": 24,
     "metadata": {},
     "output_type": "execute_result"
    },
    {
     "data": {
      "image/png": "[encoded data removed]",
      "text/plain": [
       "<Figure size 432x288 with 1 Axes>"
      ]
     },
     "metadata": {
      "needs_background": "light"
     },
     "output_type": "display_data"
    }
   ],
   "source": [
    "#Boxplots of building age for different damage grades\n",
    "sns.boxplot(y = \"age_building\", x = \"damage_grade\", data = df_num)\n",
    "plt.xlabel(\"Damage Grade\")\n"
   ]
  },
  {
   "cell_type": "markdown",
   "id": "497dfed0",
   "metadata": {},
   "source": [
    "It does look like that older buildings are damaged more."
   ]
  },
  {
   "cell_type": "markdown",
   "id": "779ee0fe",
   "metadata": {},
   "source": [
    "We will generate many scatter plots in this project. So, let's create a function to do that."
   ]
  },
  {
   "cell_type": "code",
   "execution_count": 25,
   "id": "53ad8671",
   "metadata": {},
   "outputs": [],
   "source": [
    "#Function to make scatter plot of damage_grade vs any provided variable\n",
    "def make_scatterplot(df, variable):\n",
    "    \n",
    "    plt.scatter(x = df_num[variable], y = df_num[\"damage_grade\"])\n",
    "    plt.xlabel(f\"{variable}\")\n",
    "    plt.ylabel(\"Damage Grade\")\n",
    "    plt.title(f\"Damage Grade vs {variable}\");    "
   ]
  },
  {
   "cell_type": "markdown",
   "id": "56200570",
   "metadata": {},
   "source": [
    "Let's analyze another column which is \"count_floors_pre_eq\".\n",
    "\n",
    "**count_floors_pre_eq**"
   ]
  },
  {
   "cell_type": "code",
   "execution_count": 26,
   "id": "579847b3",
   "metadata": {},
   "outputs": [
    {
     "data": {
      "image/png": "[encoded data removed]",
      "text/plain": [
       "<Figure size 432x288 with 1 Axes>"
      ]
     },
     "metadata": {
      "needs_background": "light"
     },
     "output_type": "display_data"
    }
   ],
   "source": [
    "(df_num[\"count_floors_pre_eq\"]\n",
    ".value_counts(normalize = True)\n",
    ".plot(kind = \"bar\"))\n",
    "plt.xlabel(\"Number of floors\")\n",
    "plt.ylabel(\"Frequency\")\n",
    "plt.title(\"Distribution of number of floors\");"
   ]
  },
  {
   "cell_type": "markdown",
   "id": "b16b0744",
   "metadata": {},
   "source": [
    "Looks like most buildings have only 2 floors. Let's look at the actual value counts."
   ]
  },
  {
   "cell_type": "code",
   "execution_count": 27,
   "id": "a83f570b",
   "metadata": {},
   "outputs": [
    {
     "data": {
      "text/plain": [
       "2    465849\n",
       "3    166246\n",
       "1    118538\n",
       "4      6053\n",
       "5      1562\n",
       "6       329\n",
       "7        88\n",
       "9        13\n",
       "8        12\n",
       "Name: count_floors_pre_eq, dtype: int64"
      ]
     },
     "execution_count": 27,
     "metadata": {},
     "output_type": "execute_result"
    }
   ],
   "source": [
    "df_num[\"count_floors_pre_eq\"].value_counts()"
   ]
  },
  {
   "cell_type": "markdown",
   "id": "29426c97",
   "metadata": {},
   "source": [
    "Let's create a scatter plot with damage grade."
   ]
  },
  {
   "cell_type": "code",
   "execution_count": 28,
   "id": "f9996da2",
   "metadata": {},
   "outputs": [
    {
     "data": {
      "image/png": "[encoded data removed]",
      "text/plain": [
       "<Figure size 432x288 with 1 Axes>"
      ]
     },
     "metadata": {
      "needs_background": "light"
     },
     "output_type": "display_data"
    }
   ],
   "source": [
    "make_scatterplot(df_num, \"count_floors_pre_eq\")"
   ]
  },
  {
   "cell_type": "markdown",
   "id": "04a1c752",
   "metadata": {},
   "source": [
    "It seems like there is no clear trend. It might be due to the fact that building having more floors are mostly concrete built and perhaps as stronger as a single floor bamboo house. For this project, let's drop all the buildings which have more than 5 floors. These buildings can be treated a high rise buildings and analysed separately."
   ]
  },
  {
   "cell_type": "code",
   "execution_count": 29,
   "id": "ec08c7ff",
   "metadata": {},
   "outputs": [],
   "source": [
    "floor_mask = df_num[\"count_floors_pre_eq\"] < 5\n",
    "df_num = df_num[floor_mask]"
   ]
  },
  {
   "cell_type": "markdown",
   "id": "2d3285d4",
   "metadata": {},
   "source": [
    "\n",
    "Moving on to the next column :\n",
    "\n",
    "**plinth_area_sq_ft**"
   ]
  },
  {
   "cell_type": "markdown",
   "id": "207ce0b3",
   "metadata": {},
   "source": [
    "It seems that this is a continuous variable. So, let's visualise it's distribution using a histogram."
   ]
  },
  {
   "cell_type": "code",
   "execution_count": 30,
   "id": "a2932a53",
   "metadata": {},
   "outputs": [
    {
     "data": {
      "image/png": "[encoded data removed]",
      "text/plain": [
       "<Figure size 432x288 with 1 Axes>"
      ]
     },
     "metadata": {
      "needs_background": "light"
     },
     "output_type": "display_data"
    }
   ],
   "source": [
    "plt.hist(df_num[\"plinth_area_sq_ft\"], bins = 20)\n",
    "plt.xlabel(\"plinth_area_sq_ft\")\n",
    "plt.ylabel(\"Number of Buildings\")\n",
    "plt.title(\"Distribution of plinth_area_sq_ft\");"
   ]
  },
  {
   "cell_type": "code",
   "execution_count": 31,
   "id": "e94ec4d1",
   "metadata": {},
   "outputs": [
    {
     "data": {
      "image/png": "[encoded data removed]",
      "text/plain": [
       "<Figure size 432x288 with 1 Axes>"
      ]
     },
     "metadata": {
      "needs_background": "light"
     },
     "output_type": "display_data"
    }
   ],
   "source": [
    "make_scatterplot(df_num, \"plinth_area_sq_ft\")"
   ]
  },
  {
   "cell_type": "markdown",
   "id": "00b024e4",
   "metadata": {},
   "source": [
    "It seems like buildings having large plinth area suffered less."
   ]
  },
  {
   "cell_type": "markdown",
   "id": "ea5d9dc2",
   "metadata": {},
   "source": [
    "All the remaining numerical variables are binary."
   ]
  },
  {
   "cell_type": "markdown",
   "id": "bbe6488f",
   "metadata": {},
   "source": [
    "Let's aggregate the percentage of buildings having superstructure of muds using a pivot table. We will also create a columns for the percentage of buildings not having superstructure of muds and then we will use stacked bar plot to visualise."
   ]
  },
  {
   "cell_type": "code",
   "execution_count": 32,
   "id": "a2571996",
   "metadata": {},
   "outputs": [
    {
     "data": {
      "text/html": [
       "<div>\n",
       "<style scoped>\n",
       "    .dataframe tbody tr th:only-of-type {\n",
       "        vertical-align: middle;\n",
       "    }\n",
       "\n",
       "    .dataframe tbody tr th {\n",
       "        vertical-align: top;\n",
       "    }\n",
       "\n",
       "    .dataframe thead th {\n",
       "        text-align: right;\n",
       "    }\n",
       "</style>\n",
       "<table border=\"1\" class=\"dataframe\">\n",
       "  <thead>\n",
       "    <tr style=\"text-align: right;\">\n",
       "      <th></th>\n",
       "      <th>has_superstructure_adobe_mud</th>\n",
       "      <th>does_not_has_superstructure_adobe_mud</th>\n",
       "    </tr>\n",
       "    <tr>\n",
       "      <th>damage_grade</th>\n",
       "      <th></th>\n",
       "      <th></th>\n",
       "    </tr>\n",
       "  </thead>\n",
       "  <tbody>\n",
       "    <tr>\n",
       "      <th>1</th>\n",
       "      <td>0.018342</td>\n",
       "      <td>0.981658</td>\n",
       "    </tr>\n",
       "    <tr>\n",
       "      <th>5</th>\n",
       "      <td>0.033893</td>\n",
       "      <td>0.966107</td>\n",
       "    </tr>\n",
       "    <tr>\n",
       "      <th>2</th>\n",
       "      <td>0.040571</td>\n",
       "      <td>0.959429</td>\n",
       "    </tr>\n",
       "    <tr>\n",
       "      <th>4</th>\n",
       "      <td>0.053238</td>\n",
       "      <td>0.946762</td>\n",
       "    </tr>\n",
       "    <tr>\n",
       "      <th>3</th>\n",
       "      <td>0.058178</td>\n",
       "      <td>0.941822</td>\n",
       "    </tr>\n",
       "  </tbody>\n",
       "</table>\n",
       "</div>"
      ],
      "text/plain": [
       "              has_superstructure_adobe_mud  \\\n",
       "damage_grade                                 \n",
       "1                                 0.018342   \n",
       "5                                 0.033893   \n",
       "2                                 0.040571   \n",
       "4                                 0.053238   \n",
       "3                                 0.058178   \n",
       "\n",
       "              does_not_has_superstructure_adobe_mud  \n",
       "damage_grade                                         \n",
       "1                                          0.981658  \n",
       "5                                          0.966107  \n",
       "2                                          0.959429  \n",
       "4                                          0.946762  \n",
       "3                                          0.941822  "
      ]
     },
     "execution_count": 32,
     "metadata": {},
     "output_type": "execute_result"
    }
   ],
   "source": [
    "adobe_mud = pd.pivot_table(\n",
    "    df_num, index = \"damage_grade\", values = \"has_superstructure_adobe_mud\"\n",
    ").sort_values(by = \"has_superstructure_adobe_mud\")\n",
    "adobe_mud[\"does_not_has_superstructure_adobe_mud\"] = 1 - adobe_mud[\"has_superstructure_adobe_mud\"]\n",
    "adobe_mud"
   ]
  },
  {
   "cell_type": "code",
   "execution_count": 33,
   "id": "242e3beb",
   "metadata": {},
   "outputs": [
    {
     "data": {
      "image/png": "[encoded data removed]",
      "text/plain": [
       "<Figure size 432x288 with 1 Axes>"
      ]
     },
     "metadata": {
      "needs_background": "light"
     },
     "output_type": "display_data"
    }
   ],
   "source": [
    "adobe_mud.plot(kind = \"bar\", stacked = True)\n",
    "plt.xlabel(\"Damage Grade\")\n",
    "plt.ylabel(\"Percentage of Buildings\")\n",
    "plt.title(\"Impact of a building having superstructure of adobe mud\");"
   ]
  },
  {
   "cell_type": "markdown",
   "id": "a5ac5490",
   "metadata": {},
   "source": [
    "In a similar manner we can visualise other binary columns."
   ]
  },
  {
   "cell_type": "markdown",
   "id": "3638823e",
   "metadata": {},
   "source": [
    "Now let's have a look at the non-numerical columns."
   ]
  },
  {
   "cell_type": "code",
   "execution_count": 35,
   "id": "cece71a6",
   "metadata": {},
   "outputs": [],
   "source": [
    "num_cols = df_num.columns\n",
    "df = df[[col for col in df.columns if col not in num_cols]]"
   ]
  },
  {
   "cell_type": "code",
   "execution_count": 36,
   "id": "fd1d4b0a",
   "metadata": {},
   "outputs": [
    {
     "data": {
      "text/plain": [
       "Index(['land_surface_condition', 'foundation_type', 'roof_type',\n",
       "       'ground_floor_type', 'other_floor_type', 'position',\n",
       "       'plan_configuration'],\n",
       "      dtype='object')"
      ]
     },
     "execution_count": 36,
     "metadata": {},
     "output_type": "execute_result"
    }
   ],
   "source": [
    "df.columns"
   ]
  },
  {
   "cell_type": "markdown",
   "id": "dd2e2d70",
   "metadata": {},
   "source": [
    "#### Feature Engineering"
   ]
  },
  {
   "cell_type": "markdown",
   "id": "5ad1d829",
   "metadata": {},
   "source": [
    "Let's drop the numeric columns from the original dataframe and then merge the numerical dataframe with it using a right method because the numerical dataframe has less number of rows than the original dataframe as some rows were dropped."
   ]
  },
  {
   "cell_type": "code",
   "execution_count": 37,
   "id": "f7a89d6e",
   "metadata": {},
   "outputs": [
    {
     "name": "stdout",
     "output_type": "stream",
     "text": [
      "The number of rows in the original dataframe is:  762094\n",
      "The number of rows in the processed dataframe is:  756686\n"
     ]
    }
   ],
   "source": [
    "print(\"The number of rows in the original dataframe is: \", df.shape[0])\n",
    "print(\"The number of rows in the processed dataframe is: \", df_num.shape[0])"
   ]
  },
  {
   "cell_type": "code",
   "execution_count": 38,
   "id": "c2b21a51",
   "metadata": {},
   "outputs": [
    {
     "data": {
      "text/plain": [
       "(756686, 22)"
      ]
     },
     "execution_count": 38,
     "metadata": {},
     "output_type": "execute_result"
    }
   ],
   "source": [
    "num_cols = df_num.columns\n",
    "df = df[[col for col in df.columns if col not in num_cols]]\n",
    "df = pd.merge(df, df_num, on = \"building_id\", how = \"right\")\n",
    "df.shape"
   ]
  },
  {
   "cell_type": "code",
   "execution_count": 39,
   "id": "d1c327a0",
   "metadata": {
    "scrolled": true
   },
   "outputs": [
    {
     "name": "stdout",
     "output_type": "stream",
     "text": [
      "<class 'pandas.core.frame.DataFrame'>\n",
      "Int64Index: 756686 entries, 120101000011 to 366709001281\n",
      "Data columns (total 22 columns):\n",
      " #   Column                                  Non-Null Count   Dtype \n",
      "---  ------                                  --------------   ----- \n",
      " 0   land_surface_condition                  756686 non-null  object\n",
      " 1   foundation_type                         756686 non-null  object\n",
      " 2   roof_type                               756686 non-null  object\n",
      " 3   ground_floor_type                       756686 non-null  object\n",
      " 4   other_floor_type                        756686 non-null  object\n",
      " 5   position                                756686 non-null  object\n",
      " 6   plan_configuration                      756686 non-null  object\n",
      " 7   count_floors_pre_eq                     756686 non-null  int64 \n",
      " 8   age_building                            756686 non-null  int64 \n",
      " 9   plinth_area_sq_ft                       756686 non-null  int64 \n",
      " 10  has_superstructure_adobe_mud            756686 non-null  int64 \n",
      " 11  has_superstructure_mud_mortar_stone     756686 non-null  int64 \n",
      " 12  has_superstructure_stone_flag           756686 non-null  int64 \n",
      " 13  has_superstructure_cement_mortar_stone  756686 non-null  int64 \n",
      " 14  has_superstructure_mud_mortar_brick     756686 non-null  int64 \n",
      " 15  has_superstructure_cement_mortar_brick  756686 non-null  int64 \n",
      " 16  has_superstructure_timber               756686 non-null  int64 \n",
      " 17  has_superstructure_bamboo               756686 non-null  int64 \n",
      " 18  has_superstructure_rc_non_engineered    756686 non-null  int64 \n",
      " 19  has_superstructure_rc_engineered        756686 non-null  int64 \n",
      " 20  has_superstructure_other                756686 non-null  int64 \n",
      " 21  damage_grade                            756686 non-null  int64 \n",
      "dtypes: int64(15), object(7)\n",
      "memory usage: 132.8+ MB\n"
     ]
    }
   ],
   "source": [
    "df.info()"
   ]
  },
  {
   "cell_type": "markdown",
   "id": "767a25a5",
   "metadata": {},
   "source": [
    "Some variables are categorical variables and these are identified by their datatype which is Object. Let's look at the number of categories in these column."
   ]
  },
  {
   "cell_type": "code",
   "execution_count": 40,
   "id": "69791121",
   "metadata": {},
   "outputs": [
    {
     "name": "stdout",
     "output_type": "stream",
     "text": [
      "The number of categories in the land_surface_condition column is:  3\n",
      "The number of categories in the foundation_type column is:  5\n",
      "The number of categories in the roof_type column is:  3\n",
      "The number of categories in the ground_floor_type column is:  5\n",
      "The number of categories in the other_floor_type column is:  4\n",
      "The number of categories in the position column is:  4\n",
      "The number of categories in the plan_configuration column is:  10\n"
     ]
    }
   ],
   "source": [
    "#Printing the number of unique values in categorical columns\n",
    "for col in df.columns:\n",
    "    if col not in df_num.columns:\n",
    "        print(f\"The number of categories in the {col} column is: \", df[col].nunique())"
   ]
  },
  {
   "cell_type": "markdown",
   "id": "b020b225",
   "metadata": {},
   "source": [
    "So, the total number of categories is not too high. We can use all these categories.\n",
    "We will use onehotencoder for these variables.\n",
    "\n",
    "Let's extract the target variable in \"y\" and the remaining columns in \"X\"."
   ]
  },
  {
   "cell_type": "code",
   "execution_count": 41,
   "id": "adb8bb25",
   "metadata": {},
   "outputs": [],
   "source": [
    "y = df.pop(\"damage_grade\")\n",
    "X = df"
   ]
  },
  {
   "cell_type": "markdown",
   "id": "757abfa4",
   "metadata": {},
   "source": [
    "Let's use pandas get_dummies method to encode the categorical columns."
   ]
  },
  {
   "cell_type": "markdown",
   "id": "e09db81b",
   "metadata": {},
   "source": [
    "Now, we have to split the data into train, validation and test sets. "
   ]
  },
  {
   "cell_type": "code",
   "execution_count": 42,
   "id": "36b3dd3d",
   "metadata": {},
   "outputs": [],
   "source": [
    "X_cat = [col for col in X.columns if X[col].dtype == \"O\"]\n",
    "X_cat_df = X[X_cat]\n",
    "X.drop(columns = X_cat, inplace = True)\n",
    "X_cat_df = pd.get_dummies(X_cat_df)\n",
    "X = pd.concat([X, X_cat_df], axis = \"columns\")"
   ]
  },
  {
   "cell_type": "code",
   "execution_count": 45,
   "id": "0fbf43e0",
   "metadata": {},
   "outputs": [],
   "source": [
    "X.to_csv(\"complete_x.csv\")\n",
    "y.to_csv(\"complete_y.csv\")"
   ]
  },
  {
   "cell_type": "code",
   "execution_count": 46,
   "id": "5600bc3f",
   "metadata": {},
   "outputs": [
    {
     "data": {
      "text/plain": [
       "(756686, 48)"
      ]
     },
     "execution_count": 46,
     "metadata": {},
     "output_type": "execute_result"
    }
   ],
   "source": [
    "X.shape"
   ]
  },
  {
   "cell_type": "code",
   "execution_count": 47,
   "id": "2ef6b089",
   "metadata": {},
   "outputs": [
    {
     "data": {
      "text/plain": [
       "(756686,)"
      ]
     },
     "execution_count": 47,
     "metadata": {},
     "output_type": "execute_result"
    }
   ],
   "source": [
    "y.shape"
   ]
  },
  {
   "cell_type": "markdown",
   "id": "627809c0",
   "metadata": {},
   "source": [
    "The value counts of the different categories in the target variable is:"
   ]
  },
  {
   "cell_type": "code",
   "execution_count": null,
   "id": "c197b0a8",
   "metadata": {},
   "outputs": [],
   "source": [
    "y.value_counts()"
   ]
  },
  {
   "cell_type": "markdown",
   "id": "b8679864",
   "metadata": {},
   "source": [
    "Clearly, the proportion of different labels are quiet different. So, we will use stratified splitting."
   ]
  },
  {
   "cell_type": "code",
   "execution_count": null,
   "id": "6a088ce7",
   "metadata": {},
   "outputs": [],
   "source": []
  },
  {
   "cell_type": "code",
   "execution_count": 134,
   "id": "da09b811",
   "metadata": {},
   "outputs": [],
   "source": [
    "from sklearn.model_selection import train_test_split\n",
    "\n",
    "X_train, X_test, y_train, y_test = train_test_split(X, y, \n",
    "                                                    stratify= y, test_size= 0.2,\n",
    "                                                   random_state= 7)\n",
    "X_train, X_valid, y_train, y_valid = train_test_split(X_train, \n",
    "                                                      y_train, stratify= y_train, \n",
    "                                                      test_size= 0.2,\n",
    "                                                     random_state= 7)"
   ]
  },
  {
   "cell_type": "code",
   "execution_count": 137,
   "id": "3f7c6685",
   "metadata": {},
   "outputs": [],
   "source": [
    "X_train.to_csv(\"X_train.csv\")\n",
    "X_valid.to_csv(\"X_valid.csv\")\n",
    "X_test.to_csv(\"X_test.csv\")\n",
    "y_train.to_csv(\"y_train.csv\")\n",
    "y_test.to_csv(\"y_test.csv\")\n",
    "y_valid.to_csv(\"y_valid.csv\")\n"
   ]
  },
  {
   "cell_type": "code",
   "execution_count": null,
   "id": "7a3f1bd5",
   "metadata": {},
   "outputs": [],
   "source": []
  }
 ],
 "metadata": {
  "kernelspec": {
   "display_name": "Python 3 (ipykernel)",
   "language": "python",
   "name": "python3"
  },
  "language_info": {
   "codemirror_mode": {
    "name": "ipython",
    "version": 3
   },
   "file_extension": ".py",
   "mimetype": "text/x-python",
   "name": "python",
   "nbconvert_exporter": "python",
   "pygments_lexer": "ipython3",
   "version": "3.8.10"
  }
 },
 "nbformat": 4,
 "nbformat_minor": 5
}
